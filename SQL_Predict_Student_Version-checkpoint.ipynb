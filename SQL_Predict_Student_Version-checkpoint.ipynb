{
 "cells": [
  {
   "cell_type": "markdown",
   "metadata": {
    "id": "kJ9OEzDBgwvw"
   },
   "source": [
    "# SQL 4 Data Science: Predict Project\n",
    "## Bhejane Online Trading Store\n",
    "\n",
    "### Student Starter Notebook\n",
    "\n",
    "© Explore Data Science Academy\n",
    "\n",
    "### Honour Code\n",
    "\n",
    "I {**OLAMIDE**, **OLADIPO**}, confirm - by submitting this document - that the solutions in this notebook are a result of my own work and that I abide by the EDSA honour code (https://drive.google.com/file/d/1QDCjGZJ8-FmJE3bZdIQNwnJyQKPhHZBn/view?usp=sharing).\n",
    "\n",
    "Non-compliance with the honour code constitutes a material breach of contract."
   ]
  },
  {
   "cell_type": "markdown",
   "metadata": {
    "id": "p40FILKTgwvy"
   },
   "source": [
    "<a id='Context'></a>\n",
    "### 1. Context\n",
    "\n",
    "The Bhejane trading store is an online retailer specialising in Covid essential items. The store has recently been struggling with the management of its database-related inventory system. Luckily for them, you've been hired as a consultant to fix the problem. \n",
    "\n",
    "Its time to flex your Ninja SQL skills! \n",
    " \n",
    "**Your mission, should you choose to accept it:**\n",
    "\n",
    "You will receive a denormalised database consisting of two tables. Your task is to transform the database such that is in third normal form (3NF). To ensure that a consistent normalisation process is followed by each student, we have attached an Entity Relationship Diagram (ERD) which is a guideline on what tables need to be produced. Once you have normalised the database, you will be required to complete an MCQ test found under the 'Predict' tab of Athena.  \n",
    "\n",
    "Though the normalisation process, you will be guided into acknowledging client (Bhenjane Trading) use-cases for the database, and dealing with data anomalies in SQL. "
   ]
  },
  {
   "cell_type": "markdown",
   "metadata": {},
   "source": [
    "![Bhejane company logo](https://raw.githubusercontent.com/Explore-AI/Pictures/master/SQL4DS/SQL_Predict/Bhejane.png)"
   ]
  },
  {
   "cell_type": "markdown",
   "metadata": {},
   "source": [
    "<div align=\"center\" >\n",
    "    Bhejane, or the Black Rhino. Image by <a href=\"https://commons.wikimedia.org/wiki/File:Black_Rhino_(Diceros_bicornis)_browsing_..._(46584052962).jpg\">Wikimedia Commons</a>\n",
    "</div>"
   ]
  },
  {
   "cell_type": "markdown",
   "metadata": {
    "id": "4hrluJ8Fgwvz"
   },
   "source": [
    "<a id='Imports'></a>\n",
    "### 2. Imports\n",
    "Please use the below command to install sql_magic, this is the package that will assist you with SQL syntax hightlighting.\n",
    "* pip install sql_magic\n",
    "\n",
    "Remember to start each new cell with \" %%read_sql \""
   ]
  },
  {
   "cell_type": "code",
   "execution_count": 4,
   "metadata": {},
   "outputs": [
    {
     "name": "stdout",
     "output_type": "stream",
     "text": [
      "Requirement already satisfied: sql_magic in c:\\users\\user\\anaconda3\\lib\\site-packages (0.0.4)\n",
      "Requirement already satisfied: pandas in c:\\users\\user\\anaconda3\\lib\\site-packages (from sql_magic) (1.3.4)\n",
      "Requirement already satisfied: sqlparse in c:\\users\\user\\anaconda3\\lib\\site-packages (from sql_magic) (0.4.2)\n",
      "Requirement already satisfied: jupyter in c:\\users\\user\\anaconda3\\lib\\site-packages (from sql_magic) (1.0.0)\n",
      "Requirement already satisfied: traitlets in c:\\users\\user\\anaconda3\\lib\\site-packages (from sql_magic) (5.1.0)\n",
      "Requirement already satisfied: ipython in c:\\users\\user\\anaconda3\\lib\\site-packages (from sql_magic) (7.29.0)\n",
      "Requirement already satisfied: findspark in c:\\users\\user\\anaconda3\\lib\\site-packages (from sql_magic) (2.0.1)\n",
      "Requirement already satisfied: jedi>=0.16 in c:\\users\\user\\anaconda3\\lib\\site-packages (from ipython->sql_magic) (0.18.0)\n",
      "Requirement already satisfied: prompt-toolkit!=3.0.0,!=3.0.1,<3.1.0,>=2.0.0 in c:\\users\\user\\anaconda3\\lib\\site-packages (from ipython->sql_magic) (3.0.20)\n",
      "Requirement already satisfied: decorator in c:\\users\\user\\anaconda3\\lib\\site-packages (from ipython->sql_magic) (5.1.0)\n",
      "Requirement already satisfied: backcall in c:\\users\\user\\anaconda3\\lib\\site-packages (from ipython->sql_magic) (0.2.0)\n",
      "Requirement already satisfied: matplotlib-inline in c:\\users\\user\\anaconda3\\lib\\site-packages (from ipython->sql_magic) (0.1.2)\n",
      "Requirement already satisfied: colorama in c:\\users\\user\\anaconda3\\lib\\site-packages (from ipython->sql_magic) (0.4.4)\n",
      "Requirement already satisfied: setuptools>=18.5 in c:\\users\\user\\anaconda3\\lib\\site-packages (from ipython->sql_magic) (58.0.4)\n",
      "Requirement already satisfied: pickleshare in c:\\users\\user\\anaconda3\\lib\\site-packages (from ipython->sql_magic) (0.7.5)\n",
      "Requirement already satisfied: pygments in c:\\users\\user\\anaconda3\\lib\\site-packages (from ipython->sql_magic) (2.10.0)\n",
      "Requirement already satisfied: parso<0.9.0,>=0.8.0 in c:\\users\\user\\anaconda3\\lib\\site-packages (from jedi>=0.16->ipython->sql_magic) (0.8.2)\n",
      "Requirement already satisfied: wcwidth in c:\\users\\user\\anaconda3\\lib\\site-packages (from prompt-toolkit!=3.0.0,!=3.0.1,<3.1.0,>=2.0.0->ipython->sql_magic) (0.2.5)\n",
      "Requirement already satisfied: qtconsole in c:\\users\\user\\anaconda3\\lib\\site-packages (from jupyter->sql_magic) (5.1.1)\n",
      "Requirement already satisfied: ipykernel in c:\\users\\user\\anaconda3\\lib\\site-packages (from jupyter->sql_magic) (6.4.1)\n",
      "Requirement already satisfied: nbconvert in c:\\users\\user\\anaconda3\\lib\\site-packages (from jupyter->sql_magic) (6.1.0)\n",
      "Requirement already satisfied: notebook in c:\\users\\user\\anaconda3\\lib\\site-packages (from jupyter->sql_magic) (6.4.5)\n",
      "Requirement already satisfied: jupyter-console in c:\\users\\user\\anaconda3\\lib\\site-packages (from jupyter->sql_magic) (6.4.0)Note: you may need to restart the kernel to use updated packages.\n",
      "\n",
      "Requirement already satisfied: ipywidgets in c:\\users\\user\\anaconda3\\lib\\site-packages (from jupyter->sql_magic) (7.6.5)\n",
      "Requirement already satisfied: debugpy<2.0,>=1.0.0 in c:\\users\\user\\anaconda3\\lib\\site-packages (from ipykernel->jupyter->sql_magic) (1.4.1)\n",
      "Requirement already satisfied: ipython-genutils in c:\\users\\user\\anaconda3\\lib\\site-packages (from ipykernel->jupyter->sql_magic) (0.2.0)\n",
      "Requirement already satisfied: jupyter-client<8.0 in c:\\users\\user\\anaconda3\\lib\\site-packages (from ipykernel->jupyter->sql_magic) (6.1.12)\n",
      "Requirement already satisfied: tornado<7.0,>=4.2 in c:\\users\\user\\anaconda3\\lib\\site-packages (from ipykernel->jupyter->sql_magic) (6.1)\n",
      "Requirement already satisfied: pyzmq>=13 in c:\\users\\user\\anaconda3\\lib\\site-packages (from jupyter-client<8.0->ipykernel->jupyter->sql_magic) (22.2.1)\n",
      "Requirement already satisfied: jupyter-core>=4.6.0 in c:\\users\\user\\anaconda3\\lib\\site-packages (from jupyter-client<8.0->ipykernel->jupyter->sql_magic) (4.8.1)\n",
      "Requirement already satisfied: python-dateutil>=2.1 in c:\\users\\user\\anaconda3\\lib\\site-packages (from jupyter-client<8.0->ipykernel->jupyter->sql_magic) (2.8.2)\n",
      "Requirement already satisfied: pywin32>=1.0 in c:\\users\\user\\anaconda3\\lib\\site-packages (from jupyter-core>=4.6.0->jupyter-client<8.0->ipykernel->jupyter->sql_magic) (228)\n",
      "Requirement already satisfied: six>=1.5 in c:\\users\\user\\anaconda3\\lib\\site-packages (from python-dateutil>=2.1->jupyter-client<8.0->ipykernel->jupyter->sql_magic) (1.16.0)\n",
      "Requirement already satisfied: nbformat>=4.2.0 in c:\\users\\user\\anaconda3\\lib\\site-packages (from ipywidgets->jupyter->sql_magic) (5.1.3)\n",
      "Requirement already satisfied: jupyterlab-widgets>=1.0.0 in c:\\users\\user\\anaconda3\\lib\\site-packages (from ipywidgets->jupyter->sql_magic) (1.0.0)\n",
      "Requirement already satisfied: widgetsnbextension~=3.5.0 in c:\\users\\user\\anaconda3\\lib\\site-packages (from ipywidgets->jupyter->sql_magic) (3.5.1)\n",
      "Requirement already satisfied: jsonschema!=2.5.0,>=2.4 in c:\\users\\user\\anaconda3\\lib\\site-packages (from nbformat>=4.2.0->ipywidgets->jupyter->sql_magic) (3.2.0)\n",
      "Requirement already satisfied: attrs>=17.4.0 in c:\\users\\user\\anaconda3\\lib\\site-packages (from jsonschema!=2.5.0,>=2.4->nbformat>=4.2.0->ipywidgets->jupyter->sql_magic) (21.2.0)\n",
      "Requirement already satisfied: pyrsistent>=0.14.0 in c:\\users\\user\\anaconda3\\lib\\site-packages (from jsonschema!=2.5.0,>=2.4->nbformat>=4.2.0->ipywidgets->jupyter->sql_magic) (0.18.0)\n",
      "Requirement already satisfied: Send2Trash>=1.5.0 in c:\\users\\user\\anaconda3\\lib\\site-packages (from notebook->jupyter->sql_magic) (1.8.0)\n",
      "Requirement already satisfied: argon2-cffi in c:\\users\\user\\anaconda3\\lib\\site-packages (from notebook->jupyter->sql_magic) (20.1.0)\n",
      "Requirement already satisfied: terminado>=0.8.3 in c:\\users\\user\\anaconda3\\lib\\site-packages (from notebook->jupyter->sql_magic) (0.9.4)\n",
      "Requirement already satisfied: prometheus-client in c:\\users\\user\\anaconda3\\lib\\site-packages (from notebook->jupyter->sql_magic) (0.11.0)\n",
      "Requirement already satisfied: jinja2 in c:\\users\\user\\anaconda3\\lib\\site-packages (from notebook->jupyter->sql_magic) (2.11.3)\n",
      "Requirement already satisfied: pywinpty>=0.5 in c:\\users\\user\\anaconda3\\lib\\site-packages (from terminado>=0.8.3->notebook->jupyter->sql_magic) (0.5.7)\n",
      "Requirement already satisfied: cffi>=1.0.0 in c:\\users\\user\\anaconda3\\lib\\site-packages (from argon2-cffi->notebook->jupyter->sql_magic) (1.14.6)\n",
      "Requirement already satisfied: pycparser in c:\\users\\user\\anaconda3\\lib\\site-packages (from cffi>=1.0.0->argon2-cffi->notebook->jupyter->sql_magic) (2.20)\n",
      "Requirement already satisfied: MarkupSafe>=0.23 in c:\\users\\user\\anaconda3\\lib\\site-packages (from jinja2->notebook->jupyter->sql_magic) (1.1.1)\n",
      "Requirement already satisfied: nbclient<0.6.0,>=0.5.0 in c:\\users\\user\\anaconda3\\lib\\site-packages (from nbconvert->jupyter->sql_magic) (0.5.3)\n",
      "Requirement already satisfied: mistune<2,>=0.8.1 in c:\\users\\user\\anaconda3\\lib\\site-packages (from nbconvert->jupyter->sql_magic) (0.8.4)\n",
      "Requirement already satisfied: pandocfilters>=1.4.1 in c:\\users\\user\\anaconda3\\lib\\site-packages (from nbconvert->jupyter->sql_magic) (1.4.3)\n",
      "Requirement already satisfied: entrypoints>=0.2.2 in c:\\users\\user\\anaconda3\\lib\\site-packages (from nbconvert->jupyter->sql_magic) (0.3)\n",
      "Requirement already satisfied: testpath in c:\\users\\user\\anaconda3\\lib\\site-packages (from nbconvert->jupyter->sql_magic) (0.5.0)\n",
      "Requirement already satisfied: jupyterlab-pygments in c:\\users\\user\\anaconda3\\lib\\site-packages (from nbconvert->jupyter->sql_magic) (0.1.2)\n",
      "Requirement already satisfied: defusedxml in c:\\users\\user\\anaconda3\\lib\\site-packages (from nbconvert->jupyter->sql_magic) (0.7.1)\n",
      "Requirement already satisfied: bleach in c:\\users\\user\\anaconda3\\lib\\site-packages (from nbconvert->jupyter->sql_magic) (4.0.0)\n",
      "Requirement already satisfied: nest-asyncio in c:\\users\\user\\anaconda3\\lib\\site-packages (from nbclient<0.6.0,>=0.5.0->nbconvert->jupyter->sql_magic) (1.5.1)\n",
      "Requirement already satisfied: async-generator in c:\\users\\user\\anaconda3\\lib\\site-packages (from nbclient<0.6.0,>=0.5.0->nbconvert->jupyter->sql_magic) (1.10)\n",
      "Requirement already satisfied: webencodings in c:\\users\\user\\anaconda3\\lib\\site-packages (from bleach->nbconvert->jupyter->sql_magic) (0.5.1)\n",
      "Requirement already satisfied: packaging in c:\\users\\user\\anaconda3\\lib\\site-packages (from bleach->nbconvert->jupyter->sql_magic) (21.0)\n",
      "Requirement already satisfied: pyparsing>=2.0.2 in c:\\users\\user\\anaconda3\\lib\\site-packages (from packaging->bleach->nbconvert->jupyter->sql_magic) (3.0.4)\n",
      "Requirement already satisfied: numpy>=1.17.3 in c:\\users\\user\\anaconda3\\lib\\site-packages (from pandas->sql_magic) (1.20.3)\n",
      "Requirement already satisfied: pytz>=2017.3 in c:\\users\\user\\anaconda3\\lib\\site-packages (from pandas->sql_magic) (2021.3)\n",
      "Requirement already satisfied: qtpy in c:\\users\\user\\anaconda3\\lib\\site-packages (from qtconsole->jupyter->sql_magic) (1.10.0)\n"
     ]
    }
   ],
   "source": [
    "pip install sql_magic"
   ]
  },
  {
   "cell_type": "code",
   "execution_count": 5,
   "metadata": {
    "id": "v_6LpuJDgwvz"
   },
   "outputs": [
    {
     "name": "stdout",
     "output_type": "stream",
     "text": [
      "The sql_magic extension is already loaded. To reload it, use:\n",
      "  %reload_ext sql_magic\n"
     ]
    }
   ],
   "source": [
    "# DO NOT EDIT THIS CELL\n",
    "import sqlite3\n",
    "import csv\n",
    "from sqlalchemy import create_engine\n",
    "%load_ext sql_magic\n",
    "\n",
    "# Load SQLite database\n",
    "engine  = create_engine(\"sqlite:///bhejane.db\")\n",
    "%config SQL.conn_name ='engine'"
   ]
  },
  {
   "cell_type": "markdown",
   "metadata": {
    "id": "tI8p4seXgwv3"
   },
   "source": [
    "<a id='Data_description'></a>\n",
    "### 3. Data description\n",
    "\n",
    "The original database consist of 2 tables. \n",
    "* Product Table\n",
    "* Transaction Table\n",
    "\n",
    "The `Product` table consists of the stock of all inventory that Bhejane has on hand currently, or has had on hand historically. Items which are in this table are able to be purchased, and a record of all sales (transactions) in 2020 is notorised in the `Transactions` table. To link the tables - the `barcode` can be used. Any item in the `Transactions` table, must therefore appear in the `Products` table. "
   ]
  },
  {
   "cell_type": "code",
   "execution_count": 6,
   "metadata": {
    "id": "oTb59N4Dgwv4",
    "outputId": "694a9594-2141-47a1-ad6e-f85c2571c355"
   },
   "outputs": [
    {
     "data": {
      "text/html": [
       "<div>\n",
       "<style scoped>\n",
       "    .dataframe tbody tr th:only-of-type {\n",
       "        vertical-align: middle;\n",
       "    }\n",
       "\n",
       "    .dataframe tbody tr th {\n",
       "        vertical-align: top;\n",
       "    }\n",
       "\n",
       "    .dataframe thead th {\n",
       "        text-align: right;\n",
       "    }\n",
       "</style>\n",
       "<table border=\"1\" class=\"dataframe\">\n",
       "  <thead>\n",
       "    <tr style=\"text-align: right;\">\n",
       "      <th></th>\n",
       "      <th>Table Name</th>\n",
       "      <th>Column Name</th>\n",
       "      <th>Desciption</th>\n",
       "    </tr>\n",
       "  </thead>\n",
       "  <tbody>\n",
       "    <tr>\n",
       "      <th>0</th>\n",
       "      <td>Products</td>\n",
       "      <td>Width</td>\n",
       "      <td>Width of the product once assembled</td>\n",
       "    </tr>\n",
       "    <tr>\n",
       "      <th>1</th>\n",
       "      <td>Products</td>\n",
       "      <td>Length</td>\n",
       "      <td>Length of the product once assembled</td>\n",
       "    </tr>\n",
       "    <tr>\n",
       "      <th>2</th>\n",
       "      <td>Products</td>\n",
       "      <td>Height</td>\n",
       "      <td>Height of the product once assembled</td>\n",
       "    </tr>\n",
       "    <tr>\n",
       "      <th>3</th>\n",
       "      <td>Products</td>\n",
       "      <td>Barcode</td>\n",
       "      <td>The unique product identifier</td>\n",
       "    </tr>\n",
       "    <tr>\n",
       "      <th>4</th>\n",
       "      <td>Products</td>\n",
       "      <td>Quantity</td>\n",
       "      <td>Number of goods in stock</td>\n",
       "    </tr>\n",
       "    <tr>\n",
       "      <th>5</th>\n",
       "      <td>Products</td>\n",
       "      <td>Brand</td>\n",
       "      <td>Product brand name relating to product company</td>\n",
       "    </tr>\n",
       "    <tr>\n",
       "      <th>6</th>\n",
       "      <td>Products</td>\n",
       "      <td>NavigationPath</td>\n",
       "      <td>Navigation path to specific product</td>\n",
       "    </tr>\n",
       "    <tr>\n",
       "      <th>7</th>\n",
       "      <td>Products</td>\n",
       "      <td>Colour</td>\n",
       "      <td>Name default colour for the product</td>\n",
       "    </tr>\n",
       "    <tr>\n",
       "      <th>8</th>\n",
       "      <td>Products</td>\n",
       "      <td>StockCountry</td>\n",
       "      <td>Country where the stock was bought from</td>\n",
       "    </tr>\n",
       "    <tr>\n",
       "      <th>9</th>\n",
       "      <td>Products</td>\n",
       "      <td>ProductDescription</td>\n",
       "      <td>Descriptive product name</td>\n",
       "    </tr>\n",
       "    <tr>\n",
       "      <th>10</th>\n",
       "      <td>Products</td>\n",
       "      <td>PackType</td>\n",
       "      <td>The way in which the product is packaged</td>\n",
       "    </tr>\n",
       "    <tr>\n",
       "      <th>11</th>\n",
       "      <td>Products</td>\n",
       "      <td>Volume_litre</td>\n",
       "      <td>The quantity of liquid based products</td>\n",
       "    </tr>\n",
       "    <tr>\n",
       "      <th>12</th>\n",
       "      <td>Products</td>\n",
       "      <td>Warranty</td>\n",
       "      <td>Product warranty type</td>\n",
       "    </tr>\n",
       "    <tr>\n",
       "      <th>13</th>\n",
       "      <td>Products</td>\n",
       "      <td>Weight_kg</td>\n",
       "      <td>Weight of the product</td>\n",
       "    </tr>\n",
       "    <tr>\n",
       "      <th>14</th>\n",
       "      <td>Products</td>\n",
       "      <td>ItemDescription</td>\n",
       "      <td>Description of contents of the package</td>\n",
       "    </tr>\n",
       "    <tr>\n",
       "      <th>15</th>\n",
       "      <td>Products</td>\n",
       "      <td>Price</td>\n",
       "      <td>The cost of the product in Rands</td>\n",
       "    </tr>\n",
       "    <tr>\n",
       "      <th>16</th>\n",
       "      <td>Transactions</td>\n",
       "      <td>CartID</td>\n",
       "      <td>Identifies an individual basket from a user pu...</td>\n",
       "    </tr>\n",
       "    <tr>\n",
       "      <th>17</th>\n",
       "      <td>Transactions</td>\n",
       "      <td>Barcode</td>\n",
       "      <td>Barcode for item that user purchased</td>\n",
       "    </tr>\n",
       "    <tr>\n",
       "      <th>18</th>\n",
       "      <td>Transactions</td>\n",
       "      <td>Total</td>\n",
       "      <td>Total value of a transaction</td>\n",
       "    </tr>\n",
       "    <tr>\n",
       "      <th>19</th>\n",
       "      <td>Transactions</td>\n",
       "      <td>UserName</td>\n",
       "      <td>Name of customer purchasing stock</td>\n",
       "    </tr>\n",
       "    <tr>\n",
       "      <th>20</th>\n",
       "      <td>Transactions</td>\n",
       "      <td>InvoiceDate</td>\n",
       "      <td>Date on which the product was bought</td>\n",
       "    </tr>\n",
       "  </tbody>\n",
       "</table>\n",
       "</div>"
      ],
      "text/plain": [
       "      Table Name         Column Name  \\\n",
       "0       Products               Width   \n",
       "1       Products              Length   \n",
       "2       Products              Height   \n",
       "3       Products             Barcode   \n",
       "4       Products            Quantity   \n",
       "5       Products               Brand   \n",
       "6       Products      NavigationPath   \n",
       "7       Products              Colour   \n",
       "8       Products        StockCountry   \n",
       "9       Products  ProductDescription   \n",
       "10      Products            PackType   \n",
       "11      Products        Volume_litre   \n",
       "12      Products            Warranty   \n",
       "13      Products           Weight_kg   \n",
       "14      Products     ItemDescription   \n",
       "15      Products               Price   \n",
       "16  Transactions              CartID   \n",
       "17  Transactions             Barcode   \n",
       "18  Transactions               Total   \n",
       "19  Transactions            UserName   \n",
       "20  Transactions         InvoiceDate   \n",
       "\n",
       "                                          Desciption   \n",
       "0                 Width of the product once assembled  \n",
       "1                Length of the product once assembled  \n",
       "2                Height of the product once assembled  \n",
       "3                      The unique product identifier   \n",
       "4                            Number of goods in stock  \n",
       "5      Product brand name relating to product company  \n",
       "6                 Navigation path to specific product  \n",
       "7                 Name default colour for the product  \n",
       "8             Country where the stock was bought from  \n",
       "9                            Descriptive product name  \n",
       "10           The way in which the product is packaged  \n",
       "11              The quantity of liquid based products  \n",
       "12                              Product warranty type  \n",
       "13                              Weight of the product  \n",
       "14            Description of contents of the package   \n",
       "15                   The cost of the product in Rands  \n",
       "16  Identifies an individual basket from a user pu...  \n",
       "17               Barcode for item that user purchased  \n",
       "18                      Total value of a transaction   \n",
       "19                  Name of customer purchasing stock  \n",
       "20               Date on which the product was bought  "
      ]
     },
     "execution_count": 6,
     "metadata": {},
     "output_type": "execute_result"
    }
   ],
   "source": [
    "# DO NOT EDIT THIS CELL\n",
    "import pandas as pd\n",
    "data_description = pd.read_excel('Data Description.xlsx')\n",
    "data_description"
   ]
  },
  {
   "cell_type": "markdown",
   "metadata": {
    "id": "bZd01SEagwv7"
   },
   "source": [
    "<a id='Setting_up'></a>\n",
    "### 4. Setting up the database"
   ]
  },
  {
   "cell_type": "code",
   "execution_count": 7,
   "metadata": {},
   "outputs": [],
   "source": [
    "#DO NOT EDIT THIS CELL\n",
    "conn = sqlite3.connect('bhejane.db')\n",
    "cursor = conn.cursor()"
   ]
  },
  {
   "cell_type": "markdown",
   "metadata": {
    "id": "G-WGBpmDgwv-"
   },
   "source": [
    "#### Creating both Products and Transaction Tables"
   ]
  },
  {
   "cell_type": "code",
   "execution_count": 8,
   "metadata": {
    "id": "qp-DQik7gwv-",
    "outputId": "16d1c6b9-fd74-40b1-c8a9-11807656b122"
   },
   "outputs": [
    {
     "name": "stdout",
     "output_type": "stream",
     "text": [
      "Query started at 03:25:09 PM W. Central Africa Standard Time; Query executed in 0.00 m"
     ]
    },
    {
     "data": {
      "text/plain": [
       "<sql_magic.exceptions.EmptyResult at 0x206a37cd7f0>"
      ]
     },
     "execution_count": 8,
     "metadata": {},
     "output_type": "execute_result"
    }
   ],
   "source": [
    "%%read_sql\n",
    "--DO NOT EDIT THIS CELL\n",
    "DROP TABLE IF EXISTS \"Products\";\n",
    "DROP TABLE IF EXISTS \"Transactions\";\n",
    "\n",
    "CREATE TABLE \"Products\" (\n",
    "    \"Width\"   REAL,\n",
    "    \"Length\"  REAL,\n",
    "    \"Height\"  REAL,\n",
    "    \"Barcode\" VARCHAR(150),\n",
    "    \"Quantity\" REAL,\n",
    "    \"Brand\" VARCHAR(150), \n",
    "    \"NavigationPath\" VARCHAR(150),\n",
    "    \"Colour\" VARCHAR(150),\n",
    "    \"StockCountry\" VARCHAR(150),\n",
    "    \"ProductDescription\" VARCHAR(150),\n",
    "    \"PackType\" VARCHAR(150), \n",
    "    \"Volume_litre\" REAL, \n",
    "    \"Warranty\" VARCHAR(150), \n",
    "    \"Weight_kg\" REAL,\n",
    "    \"ItemDescription\" VARCHAR(150), \n",
    "    \"Price\" REAL\n",
    ");\n",
    "\n",
    "\n",
    "CREATE TABLE \"Transactions\" (\n",
    "    \"CartID\" INTEGER,\n",
    "    \"Barcode\" VARCHAR(150), \n",
    "    \"Total\" REAL,\n",
    "    \"UserName\" VARCHAR(150), \n",
    "    \"InvoiceDate\" DATETIME\n",
    ");"
   ]
  },
  {
   "cell_type": "markdown",
   "metadata": {
    "id": "m3W5ah4PgwwG"
   },
   "source": [
    "#### Load Data into Product and Transaction tables\n",
    "\n",
    "Although we have not yet covered python in the sprint at EXPLORE - you have additional resources at your disposal, one of which happens to be a data engineering expert, and she has created a brief script for you which can be used to extract the data from the csv files, and load it into a sqlite database. \n",
    "\n",
    "This will be included in your submission, so that the end-to-end processing of the data is visible, and repeatable for any additional consultants who may be brought on board at a later stage. \n"
   ]
  },
  {
   "cell_type": "code",
   "execution_count": 9,
   "metadata": {
    "id": "VW_oEkizgwwH"
   },
   "outputs": [],
   "source": [
    "# DO NOT EDIT CELL\n",
    "#Load data into Product table\n",
    "with open('bhejane_covid_essentials_Products.csv','r') as fin: # `with` statement available in 2.5+\n",
    "    # csv.DictReader uses first line in file for column headings by default\n",
    "    dr = csv.DictReader(fin) # comma is default delimiter\n",
    "    to_db = [(i['Width'],i['Length'],i['Height'], i['Barcode'], i['Quantity'], i['Brand'], i['NavigationPath'], i['Colour'], i['StockCountry'], i['ProductDescription'],i['PackType'],i['Volume_litre'],i['Warranty'],i['Weight_kg'],i[\"ItemDescription\"],i['Price']) for i in dr]\n",
    "\n",
    "cursor.executemany(\"INSERT INTO Products VALUES (?, ?, ?, ?, ?, ?, ?, ?, ?, ?, ?, ?, ?, ?, ?, ?);\", to_db)\n",
    "conn.commit()\n",
    "\n",
    "with open('bhejane_covid_essentials_Transactions.csv','r') as fin: # `with` statement available in 2.5+\n",
    "    # csv.DictReader uses first line in file for column headings by default\n",
    "    dr = csv.DictReader(fin) # comma is default delimiter\n",
    "    to_db = [(i['CartID'],i['Barcode'], i['Total'], i['UserName'], i['InvoiceDate']) for i in dr]\n",
    "\n",
    "cursor.executemany(\"INSERT INTO Transactions VALUES (?, ?, ?, ?, ?);\", to_db)\n",
    "conn.commit()"
   ]
  },
  {
   "cell_type": "markdown",
   "metadata": {
    "id": "uo9PWlZtgwwO"
   },
   "source": [
    "<a id='ERD'></a>\n",
    "### 5. Denormalized Database Tables\n",
    "\n",
    "<br>\n",
    "\n",
    "<img src=\"https://raw.githubusercontent.com/Explore-AI/Pictures/master/SQL4DS/SQL_Predict/Denormalized_Tables.png\" alt=\"Denormalized Tables\" border=\"0\">"
   ]
  },
  {
   "cell_type": "markdown",
   "metadata": {},
   "source": [
    "#### 5.1 Explore the Denormalized Tables\n",
    "Familiarize yourself with the data given in the two tables by writing your own SQL queries to explore properties of the dataset.i.e Look for data inconsistencies, anormalies, redundancies etc to guide your normalization process. \n",
    "\n",
    "This section will not be graded - think of it as your own scratch pad.\n",
    "\n"
   ]
  },
  {
   "cell_type": "code",
   "execution_count": 10,
   "metadata": {},
   "outputs": [
    {
     "name": "stdout",
     "output_type": "stream",
     "text": [
      "Query started at 03:25:15 PM W. Central Africa Standard Time; Query executed in 0.00 m"
     ]
    },
    {
     "data": {
      "text/html": [
       "<div>\n",
       "<style scoped>\n",
       "    .dataframe tbody tr th:only-of-type {\n",
       "        vertical-align: middle;\n",
       "    }\n",
       "\n",
       "    .dataframe tbody tr th {\n",
       "        vertical-align: top;\n",
       "    }\n",
       "\n",
       "    .dataframe thead th {\n",
       "        text-align: right;\n",
       "    }\n",
       "</style>\n",
       "<table border=\"1\" class=\"dataframe\">\n",
       "  <thead>\n",
       "    <tr style=\"text-align: right;\">\n",
       "      <th></th>\n",
       "      <th>CartID</th>\n",
       "      <th>Barcode</th>\n",
       "      <th>Total</th>\n",
       "      <th>UserName</th>\n",
       "      <th>InvoiceDate</th>\n",
       "    </tr>\n",
       "  </thead>\n",
       "  <tbody>\n",
       "    <tr>\n",
       "      <th>0</th>\n",
       "      <td>102</td>\n",
       "      <td>300507946</td>\n",
       "      <td>1523.0</td>\n",
       "      <td>DIMPHO</td>\n",
       "      <td>2020-07-02 0:00:00</td>\n",
       "    </tr>\n",
       "    <tr>\n",
       "      <th>1</th>\n",
       "      <td>1</td>\n",
       "      <td>43859499182</td>\n",
       "      <td>149.0</td>\n",
       "      <td>Hendrik</td>\n",
       "      <td>2020-08-05 0:00:00</td>\n",
       "    </tr>\n",
       "    <tr>\n",
       "      <th>2</th>\n",
       "      <td>2</td>\n",
       "      <td>614143543746</td>\n",
       "      <td>99.0</td>\n",
       "      <td>Faristha</td>\n",
       "      <td>2020-07-29 0:00:00</td>\n",
       "    </tr>\n",
       "    <tr>\n",
       "      <th>3</th>\n",
       "      <td>179</td>\n",
       "      <td>617566827837</td>\n",
       "      <td>3464.0</td>\n",
       "      <td>Zanele</td>\n",
       "      <td>2020-04-04 0:00:00</td>\n",
       "    </tr>\n",
       "    <tr>\n",
       "      <th>4</th>\n",
       "      <td>136</td>\n",
       "      <td>619659097318</td>\n",
       "      <td>3301.0</td>\n",
       "      <td>Junaid</td>\n",
       "      <td>2020-08-04 0:00:00</td>\n",
       "    </tr>\n",
       "    <tr>\n",
       "      <th>...</th>\n",
       "      <td>...</td>\n",
       "      <td>...</td>\n",
       "      <td>...</td>\n",
       "      <td>...</td>\n",
       "      <td>...</td>\n",
       "    </tr>\n",
       "    <tr>\n",
       "      <th>273</th>\n",
       "      <td>190</td>\n",
       "      <td>MPTAL72849953</td>\n",
       "      <td>126.0</td>\n",
       "      <td>Shameer</td>\n",
       "      <td>2020-07-18 0:00:00</td>\n",
       "    </tr>\n",
       "    <tr>\n",
       "      <th>274</th>\n",
       "      <td>191</td>\n",
       "      <td>MPTAL72849955</td>\n",
       "      <td>53.0</td>\n",
       "      <td>Eathon</td>\n",
       "      <td>2020-05-14 0:00:00</td>\n",
       "    </tr>\n",
       "    <tr>\n",
       "      <th>275</th>\n",
       "      <td>192</td>\n",
       "      <td>MPTAL72849955</td>\n",
       "      <td>757.0</td>\n",
       "      <td>Janet</td>\n",
       "      <td>2020-06-01 0:00:00</td>\n",
       "    </tr>\n",
       "    <tr>\n",
       "      <th>276</th>\n",
       "      <td>113</td>\n",
       "      <td>MPTALP14631</td>\n",
       "      <td>2535.0</td>\n",
       "      <td>Melandi</td>\n",
       "      <td>2020-08-11 0:00:00</td>\n",
       "    </tr>\n",
       "    <tr>\n",
       "      <th>277</th>\n",
       "      <td>144</td>\n",
       "      <td>NC0087</td>\n",
       "      <td>897.0</td>\n",
       "      <td>Heather</td>\n",
       "      <td>2020-04-22 0:00:00</td>\n",
       "    </tr>\n",
       "  </tbody>\n",
       "</table>\n",
       "<p>278 rows × 5 columns</p>\n",
       "</div>"
      ],
      "text/plain": [
       "     CartID        Barcode   Total  UserName         InvoiceDate\n",
       "0       102      300507946  1523.0    DIMPHO  2020-07-02 0:00:00\n",
       "1         1    43859499182   149.0   Hendrik  2020-08-05 0:00:00\n",
       "2         2   614143543746    99.0  Faristha  2020-07-29 0:00:00\n",
       "3       179   617566827837  3464.0    Zanele  2020-04-04 0:00:00\n",
       "4       136   619659097318  3301.0    Junaid  2020-08-04 0:00:00\n",
       "..      ...            ...     ...       ...                 ...\n",
       "273     190  MPTAL72849953   126.0   Shameer  2020-07-18 0:00:00\n",
       "274     191  MPTAL72849955    53.0    Eathon  2020-05-14 0:00:00\n",
       "275     192  MPTAL72849955   757.0     Janet  2020-06-01 0:00:00\n",
       "276     113    MPTALP14631  2535.0   Melandi  2020-08-11 0:00:00\n",
       "277     144         NC0087   897.0   Heather  2020-04-22 0:00:00\n",
       "\n",
       "[278 rows x 5 columns]"
      ]
     },
     "execution_count": 10,
     "metadata": {},
     "output_type": "execute_result"
    }
   ],
   "source": [
    "%%read_sql\n",
    "-- #Use this section to explore the database by writing your own queries\n",
    "SELECT * FROM Transactions;"
   ]
  },
  {
   "cell_type": "markdown",
   "metadata": {},
   "source": [
    "### 6. Normalize the given Database tables to the 1st Normal Form (1NF)\n",
    "\n",
    "Given the below below target ERD create new tables such the the database conforms to the 1st Normal Form\n",
    "\n",
    "![1st Normal Form](https://raw.githubusercontent.com/Explore-AI/Pictures/master/SQL4DS/SQL_Predict/1stNF.png)\n",
    "\n",
    "\n",
    "It is suggested that you create all your tables before attempting to populate them with data, this will help reduce errors that might creep up due to logical dependencies."
   ]
  },
  {
   "cell_type": "markdown",
   "metadata": {},
   "source": [
    "#### 6.1 Create the tables required for the 1st Normal Form\n",
    "Use the above ERD sketch to create the required tables. Please label your tables as they appear in the ERD sketch"
   ]
  },
  {
   "cell_type": "code",
   "execution_count": 11,
   "metadata": {},
   "outputs": [
    {
     "name": "stdout",
     "output_type": "stream",
     "text": [
      "Query started at 03:25:19 PM W. Central Africa Standard Time; Query executed in 0.00 m"
     ]
    },
    {
     "data": {
      "text/plain": [
       "<sql_magic.exceptions.EmptyResult at 0x206a37dcf10>"
      ]
     },
     "execution_count": 11,
     "metadata": {},
     "output_type": "execute_result"
    }
   ],
   "source": [
    "%%read_sql\n",
    "--#Create tables required for 1NF\n",
    "DROP TABLE IF EXISTS \"Products_1NF\";\n",
    "DROP TABLE IF EXISTS \"Transactions_1NF\";\n",
    "\n",
    "CREATE TABLE \"Products_1NF\"(\n",
    "    \"Barcode\" VARCHAR(150),\n",
    "    \"NavigationPath\" VARCHAR(150),\n",
    "    \"ItemDescription\" VARCHAR(150),\n",
    "    \"Colour\" VARCHAR(150),\n",
    "    \"ProductDescription\" VARCHAR(150) NOT NULL,\n",
    "    \"Brand\" VARCHAR(150),\n",
    "    \"Price\" REAL NOT NULL,\n",
    "    \"Quantity\" INTEGER NOT NULL,\n",
    "    \"PackType\" VARCHAR(150),\n",
    "    \"Warranty\" VARCHAR(150),\n",
    "    \"StockCountry\" VARCHAR(150),\n",
    "    \"Weight_kg\" REAL,\n",
    "    \"Volume_litre\" REAL,\n",
    "    \"Length\" REAL,\n",
    "    \"Width\" REAL,\n",
    "    \"Height\" REAL,\n",
    "    PRIMARY KEY(\"Barcode\",\"NavigationPath\",\"ItemDescription\")\n",
    ");\n",
    "\n",
    "CREATE TABLE \"Transactions_1NF\" (\n",
    "    \"CartID\" INTEGER NOT NULL,\n",
    "    \"Barcode\" VARCHAR(150) NOT NULL,\n",
    "    \"UserName\" VARCHAR(150) NOT NULL,\n",
    "    \"InvoiceDate\" DATETIME NOT NULL,\n",
    "    \"Total\" REAL NOT NULL,\n",
    "    FOREIGN KEY (\"Barcode\") REFERENCES \"Products_1NF\" (\"Barcode\"),\n",
    "    PRIMARY KEY(\"CartID\", \"Barcode\", \"UserName\")\n",
    ");"
   ]
  },
  {
   "cell_type": "markdown",
   "metadata": {},
   "source": [
    "#### 6.2 Populate the tables you have create in the above section.\n",
    "\n",
    "Populate the tables such that the database conforms to the 1st Normal Form"
   ]
  },
  {
   "cell_type": "code",
   "execution_count": 12,
   "metadata": {},
   "outputs": [
    {
     "name": "stdout",
     "output_type": "stream",
     "text": [
      "Query started at 03:25:22 PM W. Central Africa Standard Time; Query executed in 0.00 m"
     ]
    },
    {
     "data": {
      "text/plain": [
       "<sql_magic.exceptions.EmptyResult at 0x206a37dcd90>"
      ]
     },
     "execution_count": 12,
     "metadata": {},
     "output_type": "execute_result"
    }
   ],
   "source": [
    "%%read_sql\n",
    "--#Populate the 1NF tables\n",
    "DELETE FROM \"Products_1NF\";\n",
    "DELETE FROM \"Transactions_1NF\";\n",
    "\n",
    "INSERT INTO \"Products_1NF\" (\"Barcode\",\"NavigationPath\",\"ItemDescription\",\"Colour\",\"ProductDescription\",\"Brand\",\n",
    "                            \"Price\",\"Quantity\",\"PackType\",\"Warranty\",\"StockCountry\",\"Weight_kg\",\n",
    "                            \"Volume_litre\",\"Length\",\"Width\",\"Height\")\n",
    "SELECT DISTINCT\n",
    "     Barcode\n",
    "    ,NavigationPath\n",
    "    ,ItemDescription\n",
    "    ,Colour\n",
    "    ,ProductDescription\n",
    "    ,Brand\n",
    "    ,Price\n",
    "    ,Quantity\n",
    "    ,PackType\n",
    "    ,Warranty\n",
    "    ,StockCountry\n",
    "    ,Weight_kg\n",
    "    ,Volume_litre\n",
    "    ,Length\n",
    "    ,Width\n",
    "    ,Height \n",
    "FROM \n",
    "    Products;\n",
    "\n",
    "INSERT INTO \"Transactions_1NF\"(\"CartID\",\"Barcode\",\"UserName\",\"InvoiceDate\",\"Total\")\n",
    "SELECT DISTINCT \n",
    "    CartID\n",
    "    ,Barcode\n",
    "    ,UserName\n",
    "    ,InvoiceDate\n",
    "    ,Total\n",
    "FROM\n",
    "    Transactions;\n",
    "    "
   ]
  },
  {
   "cell_type": "code",
   "execution_count": 13,
   "metadata": {},
   "outputs": [
    {
     "name": "stdout",
     "output_type": "stream",
     "text": [
      "Query started at 03:25:23 PM W. Central Africa Standard Time; Query executed in 0.00 m"
     ]
    },
    {
     "data": {
      "text/html": [
       "<div>\n",
       "<style scoped>\n",
       "    .dataframe tbody tr th:only-of-type {\n",
       "        vertical-align: middle;\n",
       "    }\n",
       "\n",
       "    .dataframe tbody tr th {\n",
       "        vertical-align: top;\n",
       "    }\n",
       "\n",
       "    .dataframe thead th {\n",
       "        text-align: right;\n",
       "    }\n",
       "</style>\n",
       "<table border=\"1\" class=\"dataframe\">\n",
       "  <thead>\n",
       "    <tr style=\"text-align: right;\">\n",
       "      <th></th>\n",
       "      <th>CartID</th>\n",
       "      <th>Barcode</th>\n",
       "      <th>UserName</th>\n",
       "      <th>InvoiceDate</th>\n",
       "      <th>Total</th>\n",
       "    </tr>\n",
       "  </thead>\n",
       "  <tbody>\n",
       "    <tr>\n",
       "      <th>0</th>\n",
       "      <td>102</td>\n",
       "      <td>300507946</td>\n",
       "      <td>DIMPHO</td>\n",
       "      <td>2020-07-02 0:00:00</td>\n",
       "      <td>1523.0</td>\n",
       "    </tr>\n",
       "    <tr>\n",
       "      <th>1</th>\n",
       "      <td>1</td>\n",
       "      <td>43859499182</td>\n",
       "      <td>Hendrik</td>\n",
       "      <td>2020-08-05 0:00:00</td>\n",
       "      <td>149.0</td>\n",
       "    </tr>\n",
       "    <tr>\n",
       "      <th>2</th>\n",
       "      <td>2</td>\n",
       "      <td>614143543746</td>\n",
       "      <td>Faristha</td>\n",
       "      <td>2020-07-29 0:00:00</td>\n",
       "      <td>99.0</td>\n",
       "    </tr>\n",
       "    <tr>\n",
       "      <th>3</th>\n",
       "      <td>179</td>\n",
       "      <td>617566827837</td>\n",
       "      <td>Zanele</td>\n",
       "      <td>2020-04-04 0:00:00</td>\n",
       "      <td>3464.0</td>\n",
       "    </tr>\n",
       "    <tr>\n",
       "      <th>4</th>\n",
       "      <td>136</td>\n",
       "      <td>619659097318</td>\n",
       "      <td>Junaid</td>\n",
       "      <td>2020-08-04 0:00:00</td>\n",
       "      <td>3301.0</td>\n",
       "    </tr>\n",
       "    <tr>\n",
       "      <th>...</th>\n",
       "      <td>...</td>\n",
       "      <td>...</td>\n",
       "      <td>...</td>\n",
       "      <td>...</td>\n",
       "      <td>...</td>\n",
       "    </tr>\n",
       "    <tr>\n",
       "      <th>273</th>\n",
       "      <td>190</td>\n",
       "      <td>MPTAL72849953</td>\n",
       "      <td>Shameer</td>\n",
       "      <td>2020-07-18 0:00:00</td>\n",
       "      <td>126.0</td>\n",
       "    </tr>\n",
       "    <tr>\n",
       "      <th>274</th>\n",
       "      <td>191</td>\n",
       "      <td>MPTAL72849955</td>\n",
       "      <td>Eathon</td>\n",
       "      <td>2020-05-14 0:00:00</td>\n",
       "      <td>53.0</td>\n",
       "    </tr>\n",
       "    <tr>\n",
       "      <th>275</th>\n",
       "      <td>192</td>\n",
       "      <td>MPTAL72849955</td>\n",
       "      <td>Janet</td>\n",
       "      <td>2020-06-01 0:00:00</td>\n",
       "      <td>757.0</td>\n",
       "    </tr>\n",
       "    <tr>\n",
       "      <th>276</th>\n",
       "      <td>113</td>\n",
       "      <td>MPTALP14631</td>\n",
       "      <td>Melandi</td>\n",
       "      <td>2020-08-11 0:00:00</td>\n",
       "      <td>2535.0</td>\n",
       "    </tr>\n",
       "    <tr>\n",
       "      <th>277</th>\n",
       "      <td>144</td>\n",
       "      <td>NC0087</td>\n",
       "      <td>Heather</td>\n",
       "      <td>2020-04-22 0:00:00</td>\n",
       "      <td>897.0</td>\n",
       "    </tr>\n",
       "  </tbody>\n",
       "</table>\n",
       "<p>278 rows × 5 columns</p>\n",
       "</div>"
      ],
      "text/plain": [
       "     CartID        Barcode  UserName         InvoiceDate   Total\n",
       "0       102      300507946    DIMPHO  2020-07-02 0:00:00  1523.0\n",
       "1         1    43859499182   Hendrik  2020-08-05 0:00:00   149.0\n",
       "2         2   614143543746  Faristha  2020-07-29 0:00:00    99.0\n",
       "3       179   617566827837    Zanele  2020-04-04 0:00:00  3464.0\n",
       "4       136   619659097318    Junaid  2020-08-04 0:00:00  3301.0\n",
       "..      ...            ...       ...                 ...     ...\n",
       "273     190  MPTAL72849953   Shameer  2020-07-18 0:00:00   126.0\n",
       "274     191  MPTAL72849955    Eathon  2020-05-14 0:00:00    53.0\n",
       "275     192  MPTAL72849955     Janet  2020-06-01 0:00:00   757.0\n",
       "276     113    MPTALP14631   Melandi  2020-08-11 0:00:00  2535.0\n",
       "277     144         NC0087   Heather  2020-04-22 0:00:00   897.0\n",
       "\n",
       "[278 rows x 5 columns]"
      ]
     },
     "execution_count": 13,
     "metadata": {},
     "output_type": "execute_result"
    }
   ],
   "source": [
    "%%read_sql\n",
    "select * from Transactions_1NF"
   ]
  },
  {
   "cell_type": "markdown",
   "metadata": {},
   "source": [
    "###  7. Convert the database into its 2nd Normal Form (2NF).\n",
    "\n",
    "Please label your tables as they appear in the ERD sketch.\n",
    "\n",
    "#### 7.1 Entity Relationship Diagram\n",
    "\n",
    "![2nd Normal Form](https://raw.githubusercontent.com/Explore-AI/Pictures/master/SQL4DS/SQL_Predict/2ndNF.png)\n",
    "\n",
    "#### 7.2 2NF Requirements\n",
    "To transition from 1NF to 2NF, we need all columns in all tables to not have a partial dependancy on the PK of the table. This means that any tables which have a composite key e.g. `PRIMARY KEY(\"Barcode\",\"NavigationPath\",\"ItemDescription\")` cannot have columns in the table which are dependant on only `Barcode`, `NavigationPath`, or `ItemDescription`. \n",
    "\n",
    "In moving to 2NF we will seperate out each of these as a primary key (for their own respective tables), and any columns dependant on one of these columns but not the others, will go into that table. The only columns remaining in the tables will be fully functionally dependant on the primary key of the table. For example, \n",
    "\n",
    "Thereby, we remove the partial dependancy, and will be in 2NF. We are instructed to create a unique identifier for the `Transactions_2NF`. \n",
    "\n",
    "**Second normal form notes**\n",
    "\n",
    "<br>$\\bullet$ Notice that `Total` is only dependant on `CartID` and not on `<CartID,barcode>`. This is a partial dependancy\n",
    "<br>$\\bullet$ Second normal form required no *partial functional dependancy* on the key. \n",
    "<br>$\\bullet$ This can be achieved in 2 ways: create a unique identifier per row (so that there is a simple primary key), or break the table up into only the columns which are fully dependant on the composite key. \n",
    "<br>$\\bullet$ We are going to opt for the easier solution, and create a unique simple primary key on the `Transactions_1NF`. We can create a unique primary key by concatenating `CartID||barcode`\n",
    "<br>$\\bullet$ NB - this approach does make it more challenging to get into 3NF! Which would be a good argument to opt for the latter approach. "
   ]
  },
  {
   "cell_type": "markdown",
   "metadata": {},
   "source": [
    "#### 7.3 Data Anomalies\n",
    "\n",
    "You may stumble into an error when you insert the data which violates this constraint. You query this with the data owner, and you are told that there are three transactions in the database which were errors. You are informed that *all transactions in the database correspond to products are in the database*.\n",
    "\n",
    "These entries were captured incorrectly, and must be removed. How will you deal with this? "
   ]
  },
  {
   "cell_type": "code",
   "execution_count": 14,
   "metadata": {},
   "outputs": [
    {
     "name": "stdout",
     "output_type": "stream",
     "text": [
      "Query started at 03:25:28 PM W. Central Africa Standard Time; Query executed in 0.00 m"
     ]
    },
    {
     "data": {
      "text/html": [
       "<div>\n",
       "<style scoped>\n",
       "    .dataframe tbody tr th:only-of-type {\n",
       "        vertical-align: middle;\n",
       "    }\n",
       "\n",
       "    .dataframe tbody tr th {\n",
       "        vertical-align: top;\n",
       "    }\n",
       "\n",
       "    .dataframe thead th {\n",
       "        text-align: right;\n",
       "    }\n",
       "</style>\n",
       "<table border=\"1\" class=\"dataframe\">\n",
       "  <thead>\n",
       "    <tr style=\"text-align: right;\">\n",
       "      <th></th>\n",
       "      <th>count(distinct barcode)</th>\n",
       "    </tr>\n",
       "  </thead>\n",
       "  <tbody>\n",
       "    <tr>\n",
       "      <th>0</th>\n",
       "      <td>2</td>\n",
       "    </tr>\n",
       "  </tbody>\n",
       "</table>\n",
       "</div>"
      ],
      "text/plain": [
       "   count(distinct barcode)\n",
       "0                        2"
      ]
     },
     "execution_count": 14,
     "metadata": {},
     "output_type": "execute_result"
    }
   ],
   "source": [
    "%%read_sql\n",
    "select count(distinct barcode) from Transactions_1NF where barcode not in (select barcode from products_1NF)"
   ]
  },
  {
   "cell_type": "markdown",
   "metadata": {},
   "source": [
    "### <font color='turquoise'>Action: remove the affected entries with a `delete` query </font>"
   ]
  },
  {
   "cell_type": "code",
   "execution_count": 15,
   "metadata": {},
   "outputs": [
    {
     "name": "stdout",
     "output_type": "stream",
     "text": [
      "Query started at 03:25:31 PM W. Central Africa Standard Time; Query executed in 0.00 m"
     ]
    },
    {
     "data": {
      "text/plain": [
       "<sql_magic.exceptions.EmptyResult at 0x206a37cd640>"
      ]
     },
     "execution_count": 15,
     "metadata": {},
     "output_type": "execute_result"
    }
   ],
   "source": [
    "%%read_sql\n",
    "DELETE FROM Transactions_1NF \n",
    "WHERE barcode not in (select barcode from products_1NF);\n"
   ]
  },
  {
   "cell_type": "code",
   "execution_count": 16,
   "metadata": {},
   "outputs": [
    {
     "name": "stdout",
     "output_type": "stream",
     "text": [
      "Query started at 03:25:33 PM W. Central Africa Standard Time; Query executed in 0.00 m"
     ]
    },
    {
     "data": {
      "text/html": [
       "<div>\n",
       "<style scoped>\n",
       "    .dataframe tbody tr th:only-of-type {\n",
       "        vertical-align: middle;\n",
       "    }\n",
       "\n",
       "    .dataframe tbody tr th {\n",
       "        vertical-align: top;\n",
       "    }\n",
       "\n",
       "    .dataframe thead th {\n",
       "        text-align: right;\n",
       "    }\n",
       "</style>\n",
       "<table border=\"1\" class=\"dataframe\">\n",
       "  <thead>\n",
       "    <tr style=\"text-align: right;\">\n",
       "      <th></th>\n",
       "      <th>count(distinct barcode)</th>\n",
       "    </tr>\n",
       "  </thead>\n",
       "  <tbody>\n",
       "    <tr>\n",
       "      <th>0</th>\n",
       "      <td>0</td>\n",
       "    </tr>\n",
       "  </tbody>\n",
       "</table>\n",
       "</div>"
      ],
      "text/plain": [
       "   count(distinct barcode)\n",
       "0                        0"
      ]
     },
     "execution_count": 16,
     "metadata": {},
     "output_type": "execute_result"
    }
   ],
   "source": [
    "%%read_sql\n",
    "-- Should show no entries!\n",
    "select count(distinct barcode) from Transactions_1NF where barcode not in (select barcode from products_1NF)"
   ]
  },
  {
   "cell_type": "code",
   "execution_count": 17,
   "metadata": {},
   "outputs": [
    {
     "name": "stdout",
     "output_type": "stream",
     "text": [
      "Query started at 03:25:35 PM W. Central Africa Standard Time; Query executed in 0.00 m"
     ]
    },
    {
     "data": {
      "text/html": [
       "<div>\n",
       "<style scoped>\n",
       "    .dataframe tbody tr th:only-of-type {\n",
       "        vertical-align: middle;\n",
       "    }\n",
       "\n",
       "    .dataframe tbody tr th {\n",
       "        vertical-align: top;\n",
       "    }\n",
       "\n",
       "    .dataframe thead th {\n",
       "        text-align: right;\n",
       "    }\n",
       "</style>\n",
       "<table border=\"1\" class=\"dataframe\">\n",
       "  <thead>\n",
       "    <tr style=\"text-align: right;\">\n",
       "      <th></th>\n",
       "      <th>CartID</th>\n",
       "      <th>Barcode</th>\n",
       "      <th>UserName</th>\n",
       "      <th>InvoiceDate</th>\n",
       "      <th>Total</th>\n",
       "    </tr>\n",
       "  </thead>\n",
       "  <tbody>\n",
       "    <tr>\n",
       "      <th>0</th>\n",
       "      <td>102</td>\n",
       "      <td>300507946</td>\n",
       "      <td>DIMPHO</td>\n",
       "      <td>2020-07-02 0:00:00</td>\n",
       "      <td>1523.0</td>\n",
       "    </tr>\n",
       "    <tr>\n",
       "      <th>1</th>\n",
       "      <td>1</td>\n",
       "      <td>43859499182</td>\n",
       "      <td>Hendrik</td>\n",
       "      <td>2020-08-05 0:00:00</td>\n",
       "      <td>149.0</td>\n",
       "    </tr>\n",
       "    <tr>\n",
       "      <th>2</th>\n",
       "      <td>2</td>\n",
       "      <td>614143543746</td>\n",
       "      <td>Faristha</td>\n",
       "      <td>2020-07-29 0:00:00</td>\n",
       "      <td>99.0</td>\n",
       "    </tr>\n",
       "    <tr>\n",
       "      <th>3</th>\n",
       "      <td>179</td>\n",
       "      <td>617566827837</td>\n",
       "      <td>Zanele</td>\n",
       "      <td>2020-04-04 0:00:00</td>\n",
       "      <td>3464.0</td>\n",
       "    </tr>\n",
       "    <tr>\n",
       "      <th>4</th>\n",
       "      <td>136</td>\n",
       "      <td>619659097318</td>\n",
       "      <td>Junaid</td>\n",
       "      <td>2020-08-04 0:00:00</td>\n",
       "      <td>3301.0</td>\n",
       "    </tr>\n",
       "    <tr>\n",
       "      <th>...</th>\n",
       "      <td>...</td>\n",
       "      <td>...</td>\n",
       "      <td>...</td>\n",
       "      <td>...</td>\n",
       "      <td>...</td>\n",
       "    </tr>\n",
       "    <tr>\n",
       "      <th>270</th>\n",
       "      <td>190</td>\n",
       "      <td>MPTAL72849953</td>\n",
       "      <td>Shameer</td>\n",
       "      <td>2020-07-18 0:00:00</td>\n",
       "      <td>126.0</td>\n",
       "    </tr>\n",
       "    <tr>\n",
       "      <th>271</th>\n",
       "      <td>191</td>\n",
       "      <td>MPTAL72849955</td>\n",
       "      <td>Eathon</td>\n",
       "      <td>2020-05-14 0:00:00</td>\n",
       "      <td>53.0</td>\n",
       "    </tr>\n",
       "    <tr>\n",
       "      <th>272</th>\n",
       "      <td>192</td>\n",
       "      <td>MPTAL72849955</td>\n",
       "      <td>Janet</td>\n",
       "      <td>2020-06-01 0:00:00</td>\n",
       "      <td>757.0</td>\n",
       "    </tr>\n",
       "    <tr>\n",
       "      <th>273</th>\n",
       "      <td>113</td>\n",
       "      <td>MPTALP14631</td>\n",
       "      <td>Melandi</td>\n",
       "      <td>2020-08-11 0:00:00</td>\n",
       "      <td>2535.0</td>\n",
       "    </tr>\n",
       "    <tr>\n",
       "      <th>274</th>\n",
       "      <td>144</td>\n",
       "      <td>NC0087</td>\n",
       "      <td>Heather</td>\n",
       "      <td>2020-04-22 0:00:00</td>\n",
       "      <td>897.0</td>\n",
       "    </tr>\n",
       "  </tbody>\n",
       "</table>\n",
       "<p>275 rows × 5 columns</p>\n",
       "</div>"
      ],
      "text/plain": [
       "     CartID        Barcode  UserName         InvoiceDate   Total\n",
       "0       102      300507946    DIMPHO  2020-07-02 0:00:00  1523.0\n",
       "1         1    43859499182   Hendrik  2020-08-05 0:00:00   149.0\n",
       "2         2   614143543746  Faristha  2020-07-29 0:00:00    99.0\n",
       "3       179   617566827837    Zanele  2020-04-04 0:00:00  3464.0\n",
       "4       136   619659097318    Junaid  2020-08-04 0:00:00  3301.0\n",
       "..      ...            ...       ...                 ...     ...\n",
       "270     190  MPTAL72849953   Shameer  2020-07-18 0:00:00   126.0\n",
       "271     191  MPTAL72849955    Eathon  2020-05-14 0:00:00    53.0\n",
       "272     192  MPTAL72849955     Janet  2020-06-01 0:00:00   757.0\n",
       "273     113    MPTALP14631   Melandi  2020-08-11 0:00:00  2535.0\n",
       "274     144         NC0087   Heather  2020-04-22 0:00:00   897.0\n",
       "\n",
       "[275 rows x 5 columns]"
      ]
     },
     "execution_count": 17,
     "metadata": {},
     "output_type": "execute_result"
    }
   ],
   "source": [
    "%%read_sql\n",
    "select * from Transactions_1NF"
   ]
  },
  {
   "cell_type": "markdown",
   "metadata": {},
   "source": [
    "#### 7.4 FK Requirements\n",
    "\n",
    "_Note: sqlite does not always enforce foreign key constraints (and it is even more inconsistent with magic commands to enforce FK constraints!), so it is critical that you understand the purpose of the foreign key constraint and therefore are able to enforce the FK constraint yourself!_\n",
    "\n",
    "To enforce data integrity, and to ensure that strange things cannot happen - we will have a FK constraint. A foreign key forces all values of the FK, to be limited to only the values which exist as entries in the PK column of the table for which the aforementioned table is a foreign key to. For example, we cannot sell a product (in our Transactions table) which we do not have in our Products table. \n",
    "\n",
    "You will need to work around this by removing the erroneous data from the tables before continuing, since this would violate the FK constraint between the Transactions_2NF and Products_2NF table otherwise. \n",
    "\n",
    "_Hint: Identify the observations in the Transactions_1NF table, and remove them from there._\n",
    "\n",
    "#### 7.5 Client Use-Case Requirements\n",
    "\n",
    "The data owner has advised that there were several instances of incorrect data capturing. Whenever data was partially captured, it was redone, but the partially-complete entries have not been removed from the database. \n",
    "\n",
    "For all tables which are going to be used, consider the table utility relative to the Products (Products_2NF) table. You are tasked with removing 'useless' entries as you take the data from 1NF to 2NF. For the sake of ease-of-use for the client, we will removing all rows in the 2NF tables `PackageContents_2NF` and `Colours_2NF` which have an empty value for the attributes that the client will use them for - these are the `ItemDescription` and `Colour` columns, respectively. \n",
    "\n",
    "_Hint: Make inserts into the other 2NF (`PackageContents_2NF` and `Colours_2NF`) tables using a `where` clause to remove instances of the value being an empty string, or a `null` value. This will need to be considered for the `ItemDescription` and for the `Colour` when data is inserted into the corresponding tables above (i.e. only insert data into the `PackageContents_2NF` which has a value for the `ItemDescription`, and only insert data into the `Colours_2NF` table which has a value for `Colour`_"
   ]
  },
  {
   "cell_type": "markdown",
   "metadata": {},
   "source": [
    "### <font color='turquoise'>Action: Investigate these anomalies for the tables mentioned </font>"
   ]
  },
  {
   "cell_type": "code",
   "execution_count": 18,
   "metadata": {},
   "outputs": [
    {
     "name": "stdout",
     "output_type": "stream",
     "text": [
      "Query started at 03:25:40 PM W. Central Africa Standard Time; Query executed in 0.00 m"
     ]
    },
    {
     "data": {
      "text/html": [
       "<div>\n",
       "<style scoped>\n",
       "    .dataframe tbody tr th:only-of-type {\n",
       "        vertical-align: middle;\n",
       "    }\n",
       "\n",
       "    .dataframe tbody tr th {\n",
       "        vertical-align: top;\n",
       "    }\n",
       "\n",
       "    .dataframe thead th {\n",
       "        text-align: right;\n",
       "    }\n",
       "</style>\n",
       "<table border=\"1\" class=\"dataframe\">\n",
       "  <thead>\n",
       "    <tr style=\"text-align: right;\">\n",
       "      <th></th>\n",
       "      <th>ItemDescription</th>\n",
       "      <th>PackType</th>\n",
       "      <th>Warranty</th>\n",
       "    </tr>\n",
       "  </thead>\n",
       "  <tbody>\n",
       "    <tr>\n",
       "      <th>0</th>\n",
       "      <td></td>\n",
       "      <td></td>\n",
       "      <td>Limited (6 months)</td>\n",
       "    </tr>\n",
       "    <tr>\n",
       "      <th>1</th>\n",
       "      <td></td>\n",
       "      <td></td>\n",
       "      <td>Non-Returnable</td>\n",
       "    </tr>\n",
       "    <tr>\n",
       "      <th>2</th>\n",
       "      <td></td>\n",
       "      <td></td>\n",
       "      <td>Limited (12 months)</td>\n",
       "    </tr>\n",
       "    <tr>\n",
       "      <th>3</th>\n",
       "      <td></td>\n",
       "      <td></td>\n",
       "      <td>Limited (120 months)</td>\n",
       "    </tr>\n",
       "    <tr>\n",
       "      <th>4</th>\n",
       "      <td></td>\n",
       "      <td></td>\n",
       "      <td>Limited (180 months)</td>\n",
       "    </tr>\n",
       "    <tr>\n",
       "      <th>5</th>\n",
       "      <td></td>\n",
       "      <td></td>\n",
       "      <td>Limited (18 months)</td>\n",
       "    </tr>\n",
       "    <tr>\n",
       "      <th>6</th>\n",
       "      <td></td>\n",
       "      <td></td>\n",
       "      <td>Supplier (12 months)</td>\n",
       "    </tr>\n",
       "    <tr>\n",
       "      <th>7</th>\n",
       "      <td></td>\n",
       "      <td>Single</td>\n",
       "      <td>Limited (6 months)</td>\n",
       "    </tr>\n",
       "    <tr>\n",
       "      <th>8</th>\n",
       "      <td></td>\n",
       "      <td></td>\n",
       "      <td>Limited (24 months)</td>\n",
       "    </tr>\n",
       "    <tr>\n",
       "      <th>9</th>\n",
       "      <td></td>\n",
       "      <td></td>\n",
       "      <td></td>\n",
       "    </tr>\n",
       "    <tr>\n",
       "      <th>10</th>\n",
       "      <td></td>\n",
       "      <td></td>\n",
       "      <td>Limited (36 months)</td>\n",
       "    </tr>\n",
       "    <tr>\n",
       "      <th>11</th>\n",
       "      <td></td>\n",
       "      <td></td>\n",
       "      <td>Full (6 months)</td>\n",
       "    </tr>\n",
       "  </tbody>\n",
       "</table>\n",
       "</div>"
      ],
      "text/plain": [
       "   ItemDescription PackType              Warranty\n",
       "0                              Limited (6 months)\n",
       "1                                  Non-Returnable\n",
       "2                             Limited (12 months)\n",
       "3                            Limited (120 months)\n",
       "4                            Limited (180 months)\n",
       "5                             Limited (18 months)\n",
       "6                            Supplier (12 months)\n",
       "7                    Single    Limited (6 months)\n",
       "8                             Limited (24 months)\n",
       "9                                                \n",
       "10                            Limited (36 months)\n",
       "11                                Full (6 months)"
      ]
     },
     "execution_count": 18,
     "metadata": {},
     "output_type": "execute_result"
    }
   ],
   "source": [
    "%%read_sql \n",
    "\n",
    "SELECT DISTINCT \n",
    "    ItemDescription,\n",
    "    PackType,\n",
    "    Warranty \n",
    "FROM\n",
    "    Products\n",
    "WHERE ItemDescription = '';"
   ]
  },
  {
   "cell_type": "markdown",
   "metadata": {},
   "source": [
    "### Let's do it! Construct the database above in second normal form"
   ]
  },
  {
   "cell_type": "code",
   "execution_count": 19,
   "metadata": {},
   "outputs": [
    {
     "name": "stdout",
     "output_type": "stream",
     "text": [
      "Query started at 03:25:44 PM W. Central Africa Standard Time; Query executed in 0.00 m"
     ]
    },
    {
     "data": {
      "text/plain": [
       "<sql_magic.exceptions.EmptyResult at 0x206a37d4fa0>"
      ]
     },
     "execution_count": 19,
     "metadata": {},
     "output_type": "execute_result"
    }
   ],
   "source": [
    "%%read_sql\n",
    "--#Create tables required for 2NF\n",
    "\n",
    "DROP TABLE IF EXISTS \"Products_2NF\";\n",
    "DROP TABLE IF EXISTS \"Transactions_2NF\";\n",
    "DROP TABLE IF EXISTS \"Navigation_2NF\";\n",
    "DROP TABLE IF EXISTS \"PackageContents_2NF\";\n",
    "DROP TABLE IF EXISTS \"Colours_2NF\";\n",
    "\n",
    "CREATE TABLE Products_2NF(\n",
    "    \"RegistryID\" INTEGER NOT NULL,\n",
    "    \"Barcode\" VARCHAR(150) NOT NULL,\n",
    "    \"ProductDescription\" VARCHAR(150) NOT NULL,\n",
    "    \"Brand\" VARCHAR(150),\n",
    "    \"Price\" REAL NOT NULL,\n",
    "    \"Quantity\" INTEGER NOT NULL,\n",
    "    \"StockCountry\" VARCHAR(150),\n",
    "    \"Weight_kg\" REAL,\n",
    "    \"Volume_litre\" REAL,\n",
    "    \"Length\" REAL,\n",
    "    \"Width\" REAL,\n",
    "    \"Height\" REAL,\n",
    "    \"PathID\" INTEGER,\n",
    "    \"ItemID\" INTEGER,\n",
    "    \"ColourID\" INTEGER,\n",
    "    PRIMARY KEY(RegistryID AUTOINCREMENT),\n",
    "    CONSTRAINT fk_nav FOREIGN KEY('PathID') REFERENCES Navigation_2NF ('PathID'),\n",
    "    CONSTRAINT fk_pack FOREIGN KEY('ItemID') REFERENCES PackageContents_2NF ('ItemID'),\n",
    "    CONSTRAINT fk_col FOREIGN KEY('ColourID') REFERENCES Colours_2NF ('ColourID') \n",
    ");\n",
    "\n",
    "CREATE TABLE \"Transactions_2NF\" (\n",
    "    \"CartID||Barcode||UserName\" VARCHAR(150) NOT NULL,\n",
    "    \"CartID\" INTEGER NOT NULL,\n",
    "    \"Barcode\" VARCHAR(150) NOT NULL,\n",
    "    \"UserName\" VARCHAR(150) NOT NULL,\n",
    "    \"InvoiceDate\" DATETIME NOT NULL,\n",
    "    \"Total\" REAL NOT NULL,\n",
    "    PRIMARY KEY(\"CartID||Barcode||UserName\")\n",
    "    CONSTRAINT fk_trans FOREIGN KEY('Barcode') REFERENCES Products_2NF ('Barcode')\n",
    ");\n",
    "\n",
    "\n",
    "CREATE TABLE \"Navigation_2NF\"(\n",
    "    \"PathID\" INTEGER NOT NULL,\n",
    "    \"NavigationPath\" VARCHAR(150),\n",
    "    PRIMARY KEY(\"PathID\" AUTOINCREMENT)\n",
    ");\n",
    "\n",
    "CREATE TABLE \"Colours_2NF\"(\n",
    "    \"ColourID\" INTEGER NOT NULL,\n",
    "    \"Colour\" VARCHAR(150),\n",
    "    PRIMARY KEY(\"ColourID\" AUTOINCREMENT)\n",
    ");\n",
    "\n",
    "CREATE TABLE \"PackageContents_2NF\"(\n",
    "    \"ItemID\" INTEGER NOT NULL,\n",
    "    \"ItemDescription\" VARCHAR(150),\n",
    "    \"PackType\" VARCHAR(150),\n",
    "    \"Warranty\" VARCHAR(150),\n",
    "    PRIMARY KEY(\"ItemID\" AUTOINCREMENT)\n",
    ");\n"
   ]
  },
  {
   "cell_type": "markdown",
   "metadata": {},
   "source": [
    "### Let's do it! _Populate_ the database above in second normal form\n",
    "\n",
    "Firstly, let's consider the entries which are `null` and `= ''`. And we will only insert the relevant entries. "
   ]
  },
  {
   "cell_type": "code",
   "execution_count": 20,
   "metadata": {},
   "outputs": [
    {
     "name": "stdout",
     "output_type": "stream",
     "text": [
      "Query started at 03:25:50 PM W. Central Africa Standard Time; Query executed in 0.00 m"
     ]
    },
    {
     "data": {
      "text/plain": [
       "<sql_magic.exceptions.EmptyResult at 0x206a394b490>"
      ]
     },
     "execution_count": 20,
     "metadata": {},
     "output_type": "execute_result"
    }
   ],
   "source": [
    "%%read_sql\n",
    "-- #Populate the tables so that they conform to 2NF\n",
    "\n",
    "DELETE FROM \"Products_2NF\";\n",
    "DELETE FROM \"Transactions_2NF\";\n",
    "DELETE FROM \"Navigation_2NF\";\n",
    "DELETE FROM \"PackageContents_2NF\";\n",
    "DELETE FROM \"Colours_2NF\";\n",
    "\n",
    "\n",
    "INSERT INTO \"Navigation_2NF\"(\"NavigationPath\")\n",
    "SELECT DISTINCT \n",
    "    NavigationPath \n",
    "FROM\n",
    "    Products_1NF;\n",
    "    \n",
    "INSERT INTO \"PackageContents_2NF\"(\"ItemDescription\",\"PackType\",\"Warranty\")\n",
    "SELECT DISTINCT \n",
    "    ItemDescription,\n",
    "    PackType,\n",
    "    Warranty \n",
    "FROM\n",
    "    Products_1NF\n",
    "WHERE ItemDescription <> ''\n",
    "        ;\n",
    "    \n",
    "INSERT INTO \"Colours_2NF\"(\"Colour\")\n",
    "SELECT DISTINCT \n",
    "    Colour\n",
    "FROM\n",
    "    Products_1NF\n",
    "WHERE Colour <> ''\n",
    "        ;"
   ]
  },
  {
   "cell_type": "markdown",
   "metadata": {},
   "source": [
    "A more complicated scenario below as we insert into `Products_2NF`. We will insert from the Products_1NF table. We can use LEFT JOIN, because the data in each of these tables that `Products_1NF` has a FK to, originally came from `Products_1NF`, so we are gauranteed to get matches back. Normally however, what you would get from the FK restriction is the requirement to use _parent-table_ `LEFT JOIN` _child-table_. "
   ]
  },
  {
   "cell_type": "code",
   "execution_count": 21,
   "metadata": {},
   "outputs": [
    {
     "name": "stdout",
     "output_type": "stream",
     "text": [
      "Query started at 03:25:52 PM W. Central Africa Standard Time; Query executed in 0.00 m"
     ]
    },
    {
     "data": {
      "text/plain": [
       "<sql_magic.exceptions.EmptyResult at 0x206a37d4730>"
      ]
     },
     "execution_count": 21,
     "metadata": {},
     "output_type": "execute_result"
    }
   ],
   "source": [
    "%%read_sql \n",
    "\n",
    "INSERT INTO \"Products_2NF\" (\"PathID\",\"ItemID\",\"ColourID\",\"Barcode\",\"ProductDescription\",\"Brand\",\"Price\",\n",
    "                            \"Quantity\",\"StockCountry\",\"Weight_kg\",\"Volume_litre\",\n",
    "                            \"Length\",\"Width\",\"Height\")\n",
    "SELECT\n",
    "    PathID,\n",
    "    ItemID,\n",
    "    ColourID,\n",
    "    Products_1NF.Barcode,\n",
    "    ProductDescription,\n",
    "    Brand,\n",
    "    Price,\n",
    "    Quantity,\n",
    "    StockCountry,\n",
    "    Weight_kg, \n",
    "    Volume_litre, \n",
    "    Length,\n",
    "    Width,\n",
    "    Height \n",
    "FROM \n",
    "    Products_1NF\n",
    "LEFT JOIN Navigation_2NF ON Products_1NF.NavigationPath = Navigation_2NF.NavigationPath \n",
    "LEFT JOIN PackageContents_2NF ON Products_1NF.ItemDescription = PackageContents_2NF.ItemDescription\n",
    "LEFT JOIN Colours_2NF ON Products_1NF.Colour = Colours_2NF.Colour"
   ]
  },
  {
   "cell_type": "markdown",
   "metadata": {},
   "source": [
    "Last but not least, we insert into the `Transactions_2NF`table. Recall that we created a new PK in this table, and pay attention to how we are inserting values into the table. "
   ]
  },
  {
   "cell_type": "code",
   "execution_count": 22,
   "metadata": {},
   "outputs": [
    {
     "name": "stdout",
     "output_type": "stream",
     "text": [
      "Query started at 03:25:56 PM W. Central Africa Standard Time; Query executed in 0.00 m"
     ]
    },
    {
     "data": {
      "text/plain": [
       "<sql_magic.exceptions.EmptyResult at 0x206a37cd0d0>"
      ]
     },
     "execution_count": 22,
     "metadata": {},
     "output_type": "execute_result"
    }
   ],
   "source": [
    "%%read_sql \n",
    "\n",
    "INSERT INTO \"Transactions_2NF\"(\"CartID||Barcode||UserName\",\"CartID\",\"Barcode\",\"UserName\",\"InvoiceDate\",\"Total\")\n",
    "SELECT DISTINCT \n",
    "    CartID||Transactions_1NF.Barcode||UserName\n",
    "    ,CartID\n",
    "    ,Transactions_1NF.Barcode\n",
    "    ,UserName\n",
    "    ,InvoiceDate\n",
    "    ,Total\n",
    "FROM\n",
    "    Transactions_1NF\n",
    "LEFT JOIN Products_2NF ON Transactions_1NF.Barcode = Products_2NF.Barcode ;\n"
   ]
  },
  {
   "cell_type": "code",
   "execution_count": 23,
   "metadata": {},
   "outputs": [
    {
     "name": "stdout",
     "output_type": "stream",
     "text": [
      "Query started at 03:25:59 PM W. Central Africa Standard Time; Query executed in 0.00 m"
     ]
    },
    {
     "data": {
      "text/html": [
       "<div>\n",
       "<style scoped>\n",
       "    .dataframe tbody tr th:only-of-type {\n",
       "        vertical-align: middle;\n",
       "    }\n",
       "\n",
       "    .dataframe tbody tr th {\n",
       "        vertical-align: top;\n",
       "    }\n",
       "\n",
       "    .dataframe thead th {\n",
       "        text-align: right;\n",
       "    }\n",
       "</style>\n",
       "<table border=\"1\" class=\"dataframe\">\n",
       "  <thead>\n",
       "    <tr style=\"text-align: right;\">\n",
       "      <th></th>\n",
       "      <th>CartID||Barcode||UserName</th>\n",
       "      <th>CartID</th>\n",
       "      <th>Barcode</th>\n",
       "      <th>UserName</th>\n",
       "      <th>InvoiceDate</th>\n",
       "      <th>Total</th>\n",
       "    </tr>\n",
       "  </thead>\n",
       "  <tbody>\n",
       "    <tr>\n",
       "      <th>0</th>\n",
       "      <td>143859499182Hendrik</td>\n",
       "      <td>1</td>\n",
       "      <td>43859499182</td>\n",
       "      <td>Hendrik</td>\n",
       "      <td>2020-08-05 0:00:00</td>\n",
       "      <td>149.0</td>\n",
       "    </tr>\n",
       "    <tr>\n",
       "      <th>1</th>\n",
       "      <td>2614143543746Faristha</td>\n",
       "      <td>2</td>\n",
       "      <td>614143543746</td>\n",
       "      <td>Faristha</td>\n",
       "      <td>2020-07-29 0:00:00</td>\n",
       "      <td>99.0</td>\n",
       "    </tr>\n",
       "    <tr>\n",
       "      <th>2</th>\n",
       "      <td>3619659141059JOHAN</td>\n",
       "      <td>3</td>\n",
       "      <td>619659141059</td>\n",
       "      <td>JOHAN</td>\n",
       "      <td>2020-05-20 0:00:00</td>\n",
       "      <td>75.0</td>\n",
       "    </tr>\n",
       "    <tr>\n",
       "      <th>3</th>\n",
       "      <td>4638142992763Sandra</td>\n",
       "      <td>4</td>\n",
       "      <td>638142992763</td>\n",
       "      <td>Sandra</td>\n",
       "      <td>2020-03-25 0:00:00</td>\n",
       "      <td>44.0</td>\n",
       "    </tr>\n",
       "    <tr>\n",
       "      <th>4</th>\n",
       "      <td>5638142992763Sheila</td>\n",
       "      <td>5</td>\n",
       "      <td>638142992763</td>\n",
       "      <td>Sheila</td>\n",
       "      <td>2020-08-03 0:00:00</td>\n",
       "      <td>44.0</td>\n",
       "    </tr>\n",
       "    <tr>\n",
       "      <th>...</th>\n",
       "      <td>...</td>\n",
       "      <td>...</td>\n",
       "      <td>...</td>\n",
       "      <td>...</td>\n",
       "      <td>...</td>\n",
       "      <td>...</td>\n",
       "    </tr>\n",
       "    <tr>\n",
       "      <th>270</th>\n",
       "      <td>191MPTAL72849955Eathon</td>\n",
       "      <td>191</td>\n",
       "      <td>MPTAL72849955</td>\n",
       "      <td>Eathon</td>\n",
       "      <td>2020-05-14 0:00:00</td>\n",
       "      <td>53.0</td>\n",
       "    </tr>\n",
       "    <tr>\n",
       "      <th>271</th>\n",
       "      <td>1926002305001472Janet</td>\n",
       "      <td>192</td>\n",
       "      <td>6002305001472</td>\n",
       "      <td>Janet</td>\n",
       "      <td>2020-06-01 0:00:00</td>\n",
       "      <td>757.0</td>\n",
       "    </tr>\n",
       "    <tr>\n",
       "      <th>272</th>\n",
       "      <td>1929336232000831Janet</td>\n",
       "      <td>192</td>\n",
       "      <td>9336232000831</td>\n",
       "      <td>Janet</td>\n",
       "      <td>2020-06-01 0:00:00</td>\n",
       "      <td>757.0</td>\n",
       "    </tr>\n",
       "    <tr>\n",
       "      <th>273</th>\n",
       "      <td>192MPTAL57588104Janet</td>\n",
       "      <td>192</td>\n",
       "      <td>MPTAL57588104</td>\n",
       "      <td>Janet</td>\n",
       "      <td>2020-06-01 0:00:00</td>\n",
       "      <td>757.0</td>\n",
       "    </tr>\n",
       "    <tr>\n",
       "      <th>274</th>\n",
       "      <td>192MPTAL72849955Janet</td>\n",
       "      <td>192</td>\n",
       "      <td>MPTAL72849955</td>\n",
       "      <td>Janet</td>\n",
       "      <td>2020-06-01 0:00:00</td>\n",
       "      <td>757.0</td>\n",
       "    </tr>\n",
       "  </tbody>\n",
       "</table>\n",
       "<p>275 rows × 6 columns</p>\n",
       "</div>"
      ],
      "text/plain": [
       "    CartID||Barcode||UserName  CartID        Barcode  UserName  \\\n",
       "0         143859499182Hendrik       1    43859499182   Hendrik   \n",
       "1       2614143543746Faristha       2   614143543746  Faristha   \n",
       "2          3619659141059JOHAN       3   619659141059     JOHAN   \n",
       "3         4638142992763Sandra       4   638142992763    Sandra   \n",
       "4         5638142992763Sheila       5   638142992763    Sheila   \n",
       "..                        ...     ...            ...       ...   \n",
       "270    191MPTAL72849955Eathon     191  MPTAL72849955    Eathon   \n",
       "271     1926002305001472Janet     192  6002305001472     Janet   \n",
       "272     1929336232000831Janet     192  9336232000831     Janet   \n",
       "273     192MPTAL57588104Janet     192  MPTAL57588104     Janet   \n",
       "274     192MPTAL72849955Janet     192  MPTAL72849955     Janet   \n",
       "\n",
       "            InvoiceDate  Total  \n",
       "0    2020-08-05 0:00:00  149.0  \n",
       "1    2020-07-29 0:00:00   99.0  \n",
       "2    2020-05-20 0:00:00   75.0  \n",
       "3    2020-03-25 0:00:00   44.0  \n",
       "4    2020-08-03 0:00:00   44.0  \n",
       "..                  ...    ...  \n",
       "270  2020-05-14 0:00:00   53.0  \n",
       "271  2020-06-01 0:00:00  757.0  \n",
       "272  2020-06-01 0:00:00  757.0  \n",
       "273  2020-06-01 0:00:00  757.0  \n",
       "274  2020-06-01 0:00:00  757.0  \n",
       "\n",
       "[275 rows x 6 columns]"
      ]
     },
     "execution_count": 23,
     "metadata": {},
     "output_type": "execute_result"
    }
   ],
   "source": [
    "%%read_sql\n",
    "select * from Transactions_2NF\n"
   ]
  },
  {
   "cell_type": "markdown",
   "metadata": {},
   "source": [
    "<a id='Target_ERD'></a>\n",
    "### 8. Convert the table into its 3rd Normal Form (3NF)\n",
    "\n",
    "Please label your tables as they appear in the ERD sketch. In the same fashion as done in 2NF, note which tables need to have data inserted `where column <> '' and column is not null`.\n",
    "\n",
    "<br>\n",
    "\n",
    "![3rd Normal Form](https://raw.githubusercontent.com/Explore-AI/Pictures/master/SQL4DS/SQL_Predict/3rdNF.png)"
   ]
  },
  {
   "cell_type": "code",
   "execution_count": 24,
   "metadata": {
    "id": "nSceV8iQgwwP",
    "outputId": "8f243bda-2032-4c7b-9c58-e6110cdb9505"
   },
   "outputs": [
    {
     "name": "stdout",
     "output_type": "stream",
     "text": [
      "Query started at 03:26:03 PM W. Central Africa Standard Time; Query executed in 0.00 m"
     ]
    },
    {
     "data": {
      "text/plain": [
       "<sql_magic.exceptions.EmptyResult at 0x206a37cd790>"
      ]
     },
     "execution_count": 24,
     "metadata": {},
     "output_type": "execute_result"
    }
   ],
   "source": [
    "%%read_sql\n",
    "\n",
    "--#Create tables required for 2NF\n",
    "DROP TABLE IF EXISTS \"Transactions_3NF\";\n",
    "DROP TABLE IF EXISTS \"Carts_3NF\";\n",
    "DROP TABLE IF EXISTS \"Products_3NF\";\n",
    "DROP TABLE IF EXISTS \"Users_3NF\";\n",
    "DROP TABLE IF EXISTS \"Navigation_3NF\";\n",
    "DROP TABLE IF EXISTS \"PackageContents_3NF\";\n",
    "DROP TABLE IF EXISTS \"Colours_3NF\";\n",
    "DROP TABLE IF EXISTS \"Brands_3NF\";\n",
    "DROP TABLE IF EXISTS \"Locations_3NF\";\n",
    "\n",
    "CREATE TABLE \"Products_3NF\" (\n",
    "    \"RegistryID\" INTEGER NOT NULL,\n",
    "    \"Barcode\" VARCHAR(150) NOT NULL,\n",
    "    \"ProductDescription\" VARCHAR(150) NOT NULL,\n",
    "    \"Price\" REAL NOT NULL,\n",
    "    \"Quantity\" INTEGER NOT NULL,\n",
    "    \"Weight_kg\" REAL,\n",
    "    \"Volume_litre\" REAL,\n",
    "    \"Length\" REAL,\n",
    "    \"Width\" REAL,\n",
    "    \"Height\" REAL,\n",
    "    \"PathID\" INTEGER,\n",
    "    \"ItemID\" INTEGER,\n",
    "    \"ColourID\" INTEGER,\n",
    "    \"BrandID\" INTEGER,\n",
    "    \"LocationID\" INTEGER,\n",
    "    PRIMARY KEY(\"RegistryID\" AUTOINCREMENT),\n",
    "    FOREIGN KEY(\"PathID\") REFERENCES \"Navigation_3NF\" (\"PathID\"),\n",
    "    FOREIGN KEY(\"ItemID\") REFERENCES \"PackageContents_3NF\" (\"ItemID\"),\n",
    "    FOREIGN KEY(\"ColourID\") REFERENCES \"Colours_3NF\" (\"ColourID\") ,\n",
    "    FOREIGN KEY (\"BrandID\") REFERENCES \"Brands_3NF\" (\"BrandID\"),\n",
    "    FOREIGN KEY (\"LocationID\") REFERENCES \"Locations_3NF\" (\"LocationID\")\n",
    ");\n",
    "\n",
    "\n",
    "CREATE TABLE \"Carts_3NF\" (\n",
    "    \"CartID\" INTEGER NOT NULL,\n",
    "    \"InvoiceDate\" DATETIME NOT NULL,\n",
    "    \"Total\" REAL NOT NULL,\n",
    "    PRIMARY KEY (\"CartID\")\n",
    ");\n",
    "\n",
    "\n",
    "CREATE TABLE \"Users_3NF\"(\n",
    "    \"UserID\" INTEGER NOT NULL,\n",
    "    UserName VARCHAR(50) NOT NULL,\n",
    "    PRIMARY KEY(\"UserID\" AUTOINCREMENT)\n",
    ");\n"
   ]
  },
  {
   "cell_type": "markdown",
   "metadata": {},
   "source": [
    "### <font color='turquoise'>Action: proceed with the construction of the remaining tables mentioned </font>"
   ]
  },
  {
   "cell_type": "code",
   "execution_count": 25,
   "metadata": {},
   "outputs": [
    {
     "name": "stdout",
     "output_type": "stream",
     "text": [
      "Query started at 03:26:08 PM W. Central Africa Standard Time; Query executed in 0.00 m"
     ]
    },
    {
     "data": {
      "text/plain": [
       "<sql_magic.exceptions.EmptyResult at 0x206a39852e0>"
      ]
     },
     "execution_count": 25,
     "metadata": {},
     "output_type": "execute_result"
    }
   ],
   "source": [
    "%%read_sql\n",
    "CREATE TABLE \"Transactions_3NF\" (\n",
    "    \"CartID||Barcode||UserName\" VARCHAR(150) NOT NULL,\n",
    "    \"CartID\" INTEGER NOT NULL,\n",
    "    \"Barcode\" VARCHAR(150) NOT NULL,\n",
    "    \"UserID\" VARCHAR(150) NOT NULL,\n",
    "    PRIMARY KEY(\"CartID||Barcode||UserName\")\n",
    "   \n",
    ");\n",
    "    \n",
    "    \n",
    "CREATE TABLE \"Navigation_3NF\"(\n",
    "    \"PathID\" INTEGER NOT NULL,\n",
    "    \"NavigationPath\" VARCHAR(150),\n",
    "    PRIMARY KEY(\"PathID\")\n",
    " );\n",
    "\n",
    "CREATE TABLE \"PackageContents_3NF\"(\n",
    "    \"ItemID\" INTEGER NOT NULL,\n",
    "    \"ItemDescription\" VARCHAR(150),\n",
    "    \"PackType\" VARCHAR(150),\n",
    "    \"Warranty\" VARCHAR(150),\n",
    "    PRIMARY KEY(\"ItemID\")\n",
    ");\n",
    "\n",
    "CREATE TABLE \"Colours_3NF\"(\n",
    "    \"ColourID\" INTEGER NOT NULL,\n",
    "    \"Colour\" VARCHAR(150),\n",
    "    PRIMARY KEY(\"ColourID\")\n",
    ");\n",
    "\n",
    "CREATE TABLE \"Brands_3NF\"(\n",
    "    \"BrandID\" INTEGER NOT NULL,\n",
    "    \"Brand\" VARCHAR(150),\n",
    "    PRIMARY KEY(\"BrandID\" AUTOINCREMENT)\n",
    ");\n",
    "    \n",
    "CREATE TABLE \"Locations_3NF\"(\n",
    "    \"LocationID\" INTEGER NOT NULL,\n",
    "    \"StockCountry\" VARCHAR(150),\n",
    "    PRIMARY KEY(\"LocationID\" AUTOINCREMENT)\n",
    ")\n"
   ]
  },
  {
   "cell_type": "code",
   "execution_count": 26,
   "metadata": {},
   "outputs": [
    {
     "name": "stdout",
     "output_type": "stream",
     "text": [
      "Query started at 03:26:10 PM W. Central Africa Standard Time; Query executed in 0.00 m"
     ]
    },
    {
     "data": {
      "text/plain": [
       "<sql_magic.exceptions.EmptyResult at 0x206a39856d0>"
      ]
     },
     "execution_count": 26,
     "metadata": {},
     "output_type": "execute_result"
    }
   ],
   "source": [
    "%%read_sql\n",
    "\n",
    "--# Populate the tables to that they conform to the 3rd Normal Form\n",
    "DELETE FROM \"Products_3NF\";\n",
    "DELETE FROM \"Transactions_3NF\";\n",
    "DELETE FROM \"Carts_3NF\";\n",
    "DELETE FROM \"Users_3NF\";\n",
    "DELETE FROM \"Navigation_3NF\";\n",
    "DELETE FROM \"PackageContents_3NF\";\n",
    "DELETE FROM \"Colours_3NF\";\n",
    "DELETE FROM \"Brands_3NF\";\n",
    "DELETE FROM \"Locations_3NF\";\n",
    "\n",
    "INSERT INTO \"Users_3NF\" (\"UserName\")\n",
    "SELECT DISTINCT UserName FROM Transactions_2NF;\n"
   ]
  },
  {
   "cell_type": "markdown",
   "metadata": {},
   "source": [
    "### <font color='turquoise'>Action: proceed with the insertion into `Carts_3NF`.   </font>\n",
    "\n",
    "Take note that there are duplicate values coming from `Transactions_2NF` - retain the `distinct` combinations of `CartID`,`InvoiceDate`,`Total` only."
   ]
  },
  {
   "cell_type": "code",
   "execution_count": 27,
   "metadata": {},
   "outputs": [
    {
     "name": "stdout",
     "output_type": "stream",
     "text": [
      "Query started at 03:26:13 PM W. Central Africa Standard Time; Query executed in 0.00 m"
     ]
    },
    {
     "data": {
      "text/plain": [
       "<sql_magic.exceptions.EmptyResult at 0x206a3985850>"
      ]
     },
     "execution_count": 27,
     "metadata": {},
     "output_type": "execute_result"
    }
   ],
   "source": [
    "%%read_sql\n",
    "\n",
    "INSERT INTO \"Carts_3NF\"(\"CartID\",\"InvoiceDate\",\"Total\")\n",
    "SELECT DISTINCT\n",
    "    CartID,\n",
    "    InvoiceDate,\n",
    "    Total\n",
    "FROM\n",
    "    Transactions_2NF\n",
    "Group by CartID;\n"
   ]
  },
  {
   "cell_type": "code",
   "execution_count": 28,
   "metadata": {},
   "outputs": [
    {
     "name": "stdout",
     "output_type": "stream",
     "text": [
      "Query started at 03:26:15 PM W. Central Africa Standard Time; Query executed in 0.00 m"
     ]
    },
    {
     "data": {
      "text/html": [
       "<div>\n",
       "<style scoped>\n",
       "    .dataframe tbody tr th:only-of-type {\n",
       "        vertical-align: middle;\n",
       "    }\n",
       "\n",
       "    .dataframe tbody tr th {\n",
       "        vertical-align: top;\n",
       "    }\n",
       "\n",
       "    .dataframe thead th {\n",
       "        text-align: right;\n",
       "    }\n",
       "</style>\n",
       "<table border=\"1\" class=\"dataframe\">\n",
       "  <thead>\n",
       "    <tr style=\"text-align: right;\">\n",
       "      <th></th>\n",
       "      <th>CartID||Barcode||UserName</th>\n",
       "      <th>CartID</th>\n",
       "      <th>Barcode</th>\n",
       "      <th>UserName</th>\n",
       "      <th>InvoiceDate</th>\n",
       "      <th>Total</th>\n",
       "    </tr>\n",
       "  </thead>\n",
       "  <tbody>\n",
       "    <tr>\n",
       "      <th>0</th>\n",
       "      <td>143859499182Hendrik</td>\n",
       "      <td>1</td>\n",
       "      <td>43859499182</td>\n",
       "      <td>Hendrik</td>\n",
       "      <td>2020-08-05 0:00:00</td>\n",
       "      <td>149.0</td>\n",
       "    </tr>\n",
       "    <tr>\n",
       "      <th>1</th>\n",
       "      <td>2614143543746Faristha</td>\n",
       "      <td>2</td>\n",
       "      <td>614143543746</td>\n",
       "      <td>Faristha</td>\n",
       "      <td>2020-07-29 0:00:00</td>\n",
       "      <td>99.0</td>\n",
       "    </tr>\n",
       "    <tr>\n",
       "      <th>2</th>\n",
       "      <td>3619659141059JOHAN</td>\n",
       "      <td>3</td>\n",
       "      <td>619659141059</td>\n",
       "      <td>JOHAN</td>\n",
       "      <td>2020-05-20 0:00:00</td>\n",
       "      <td>75.0</td>\n",
       "    </tr>\n",
       "    <tr>\n",
       "      <th>3</th>\n",
       "      <td>4638142992763Sandra</td>\n",
       "      <td>4</td>\n",
       "      <td>638142992763</td>\n",
       "      <td>Sandra</td>\n",
       "      <td>2020-03-25 0:00:00</td>\n",
       "      <td>44.0</td>\n",
       "    </tr>\n",
       "    <tr>\n",
       "      <th>4</th>\n",
       "      <td>5638142992763Sheila</td>\n",
       "      <td>5</td>\n",
       "      <td>638142992763</td>\n",
       "      <td>Sheila</td>\n",
       "      <td>2020-08-03 0:00:00</td>\n",
       "      <td>44.0</td>\n",
       "    </tr>\n",
       "    <tr>\n",
       "      <th>...</th>\n",
       "      <td>...</td>\n",
       "      <td>...</td>\n",
       "      <td>...</td>\n",
       "      <td>...</td>\n",
       "      <td>...</td>\n",
       "      <td>...</td>\n",
       "    </tr>\n",
       "    <tr>\n",
       "      <th>185</th>\n",
       "      <td>188MPTAL72781093Heather</td>\n",
       "      <td>188</td>\n",
       "      <td>MPTAL72781093</td>\n",
       "      <td>Heather</td>\n",
       "      <td>2020-06-24 0:00:00</td>\n",
       "      <td>239.0</td>\n",
       "    </tr>\n",
       "    <tr>\n",
       "      <th>186</th>\n",
       "      <td>189MPTAL72849953Stephan</td>\n",
       "      <td>189</td>\n",
       "      <td>MPTAL72849953</td>\n",
       "      <td>Stephan</td>\n",
       "      <td>2020-06-02 0:00:00</td>\n",
       "      <td>126.0</td>\n",
       "    </tr>\n",
       "    <tr>\n",
       "      <th>187</th>\n",
       "      <td>190MPTAL72849953Shameer</td>\n",
       "      <td>190</td>\n",
       "      <td>MPTAL72849953</td>\n",
       "      <td>Shameer</td>\n",
       "      <td>2020-07-18 0:00:00</td>\n",
       "      <td>126.0</td>\n",
       "    </tr>\n",
       "    <tr>\n",
       "      <th>188</th>\n",
       "      <td>191MPTAL72849955Eathon</td>\n",
       "      <td>191</td>\n",
       "      <td>MPTAL72849955</td>\n",
       "      <td>Eathon</td>\n",
       "      <td>2020-05-14 0:00:00</td>\n",
       "      <td>53.0</td>\n",
       "    </tr>\n",
       "    <tr>\n",
       "      <th>189</th>\n",
       "      <td>1926002305001472Janet</td>\n",
       "      <td>192</td>\n",
       "      <td>6002305001472</td>\n",
       "      <td>Janet</td>\n",
       "      <td>2020-06-01 0:00:00</td>\n",
       "      <td>757.0</td>\n",
       "    </tr>\n",
       "  </tbody>\n",
       "</table>\n",
       "<p>190 rows × 6 columns</p>\n",
       "</div>"
      ],
      "text/plain": [
       "    CartID||Barcode||UserName  CartID        Barcode  UserName  \\\n",
       "0         143859499182Hendrik       1    43859499182   Hendrik   \n",
       "1       2614143543746Faristha       2   614143543746  Faristha   \n",
       "2          3619659141059JOHAN       3   619659141059     JOHAN   \n",
       "3         4638142992763Sandra       4   638142992763    Sandra   \n",
       "4         5638142992763Sheila       5   638142992763    Sheila   \n",
       "..                        ...     ...            ...       ...   \n",
       "185   188MPTAL72781093Heather     188  MPTAL72781093   Heather   \n",
       "186   189MPTAL72849953Stephan     189  MPTAL72849953   Stephan   \n",
       "187   190MPTAL72849953Shameer     190  MPTAL72849953   Shameer   \n",
       "188    191MPTAL72849955Eathon     191  MPTAL72849955    Eathon   \n",
       "189     1926002305001472Janet     192  6002305001472     Janet   \n",
       "\n",
       "            InvoiceDate  Total  \n",
       "0    2020-08-05 0:00:00  149.0  \n",
       "1    2020-07-29 0:00:00   99.0  \n",
       "2    2020-05-20 0:00:00   75.0  \n",
       "3    2020-03-25 0:00:00   44.0  \n",
       "4    2020-08-03 0:00:00   44.0  \n",
       "..                  ...    ...  \n",
       "185  2020-06-24 0:00:00  239.0  \n",
       "186  2020-06-02 0:00:00  126.0  \n",
       "187  2020-07-18 0:00:00  126.0  \n",
       "188  2020-05-14 0:00:00   53.0  \n",
       "189  2020-06-01 0:00:00  757.0  \n",
       "\n",
       "[190 rows x 6 columns]"
      ]
     },
     "execution_count": 28,
     "metadata": {},
     "output_type": "execute_result"
    }
   ],
   "source": [
    "%%read_sql\n",
    "select * from Transactions_2NF\n",
    "GROUP BY CartID"
   ]
  },
  {
   "cell_type": "markdown",
   "metadata": {},
   "source": [
    "### <font color='turquoise'>Action: proceed with the insertion into the tables below. </font>\n",
    "\n",
    "Similarly to the table above, mind the occurances of duplicate entries. These can be avoided by using `SELECT distinct` to avoid inserting redundant rows. \n"
   ]
  },
  {
   "cell_type": "code",
   "execution_count": 29,
   "metadata": {},
   "outputs": [
    {
     "name": "stdout",
     "output_type": "stream",
     "text": [
      "Query started at 03:26:18 PM W. Central Africa Standard Time; Query executed in 0.00 m"
     ]
    },
    {
     "data": {
      "text/html": [
       "<div>\n",
       "<style scoped>\n",
       "    .dataframe tbody tr th:only-of-type {\n",
       "        vertical-align: middle;\n",
       "    }\n",
       "\n",
       "    .dataframe tbody tr th {\n",
       "        vertical-align: top;\n",
       "    }\n",
       "\n",
       "    .dataframe thead th {\n",
       "        text-align: right;\n",
       "    }\n",
       "</style>\n",
       "<table border=\"1\" class=\"dataframe\">\n",
       "  <thead>\n",
       "    <tr style=\"text-align: right;\">\n",
       "      <th></th>\n",
       "      <th>RegistryID</th>\n",
       "      <th>Barcode</th>\n",
       "      <th>ProductDescription</th>\n",
       "      <th>Brand</th>\n",
       "      <th>Price</th>\n",
       "      <th>Quantity</th>\n",
       "      <th>StockCountry</th>\n",
       "      <th>Weight_kg</th>\n",
       "      <th>Volume_litre</th>\n",
       "      <th>Length</th>\n",
       "      <th>Width</th>\n",
       "      <th>Height</th>\n",
       "      <th>PathID</th>\n",
       "      <th>ItemID</th>\n",
       "      <th>ColourID</th>\n",
       "    </tr>\n",
       "  </thead>\n",
       "  <tbody>\n",
       "    <tr>\n",
       "      <th>0</th>\n",
       "      <td>1</td>\n",
       "      <td>300507946</td>\n",
       "      <td>Hikvision 1080P 2MP Turbo HD IR Bullet Camera</td>\n",
       "      <td>Hikvision</td>\n",
       "      <td>399.0</td>\n",
       "      <td>493</td>\n",
       "      <td></td>\n",
       "      <td></td>\n",
       "      <td>0.0</td>\n",
       "      <td></td>\n",
       "      <td></td>\n",
       "      <td></td>\n",
       "      <td>11</td>\n",
       "      <td>1.0</td>\n",
       "      <td>NaN</td>\n",
       "    </tr>\n",
       "    <tr>\n",
       "      <th>1</th>\n",
       "      <td>2</td>\n",
       "      <td>300507946</td>\n",
       "      <td>Hikvision 1080P 2MP Turbo HD IR Bullet Camera</td>\n",
       "      <td>Hikvision</td>\n",
       "      <td>399.0</td>\n",
       "      <td>493</td>\n",
       "      <td></td>\n",
       "      <td></td>\n",
       "      <td>0.0</td>\n",
       "      <td></td>\n",
       "      <td></td>\n",
       "      <td></td>\n",
       "      <td>11</td>\n",
       "      <td>2.0</td>\n",
       "      <td>NaN</td>\n",
       "    </tr>\n",
       "    <tr>\n",
       "      <th>2</th>\n",
       "      <td>3</td>\n",
       "      <td>10325354918</td>\n",
       "      <td>ZEE 3-in-1 Unisex Gaiter</td>\n",
       "      <td>ZEE</td>\n",
       "      <td>139.0</td>\n",
       "      <td>467</td>\n",
       "      <td></td>\n",
       "      <td></td>\n",
       "      <td>0.0</td>\n",
       "      <td></td>\n",
       "      <td></td>\n",
       "      <td></td>\n",
       "      <td>1</td>\n",
       "      <td>NaN</td>\n",
       "      <td>1.0</td>\n",
       "    </tr>\n",
       "    <tr>\n",
       "      <th>3</th>\n",
       "      <td>4</td>\n",
       "      <td>27131187035</td>\n",
       "      <td>Estee Lauder Double Wear Stay In Place Makeup</td>\n",
       "      <td>Estee Lauder</td>\n",
       "      <td>655.0</td>\n",
       "      <td>275</td>\n",
       "      <td>South Africa</td>\n",
       "      <td></td>\n",
       "      <td>0.0</td>\n",
       "      <td></td>\n",
       "      <td></td>\n",
       "      <td></td>\n",
       "      <td>8</td>\n",
       "      <td>NaN</td>\n",
       "      <td>2.0</td>\n",
       "    </tr>\n",
       "    <tr>\n",
       "      <th>4</th>\n",
       "      <td>5</td>\n",
       "      <td>27131187035</td>\n",
       "      <td>Estee Lauder Double Wear Stay In Place Makeup</td>\n",
       "      <td>Estee Lauder</td>\n",
       "      <td>655.0</td>\n",
       "      <td>275</td>\n",
       "      <td>South Africa</td>\n",
       "      <td></td>\n",
       "      <td>0.0</td>\n",
       "      <td></td>\n",
       "      <td></td>\n",
       "      <td></td>\n",
       "      <td>9</td>\n",
       "      <td>NaN</td>\n",
       "      <td>2.0</td>\n",
       "    </tr>\n",
       "    <tr>\n",
       "      <th>...</th>\n",
       "      <td>...</td>\n",
       "      <td>...</td>\n",
       "      <td>...</td>\n",
       "      <td>...</td>\n",
       "      <td>...</td>\n",
       "      <td>...</td>\n",
       "      <td>...</td>\n",
       "      <td>...</td>\n",
       "      <td>...</td>\n",
       "      <td>...</td>\n",
       "      <td>...</td>\n",
       "      <td>...</td>\n",
       "      <td>...</td>\n",
       "      <td>...</td>\n",
       "      <td>...</td>\n",
       "    </tr>\n",
       "    <tr>\n",
       "      <th>1209</th>\n",
       "      <td>1210</td>\n",
       "      <td>TAL00035388021</td>\n",
       "      <td>Angelcare - Nappy Bin Refill - 3 Pack</td>\n",
       "      <td>Angelcare</td>\n",
       "      <td>269.0</td>\n",
       "      <td>220</td>\n",
       "      <td>South Africa</td>\n",
       "      <td></td>\n",
       "      <td>0.0</td>\n",
       "      <td></td>\n",
       "      <td></td>\n",
       "      <td></td>\n",
       "      <td>396</td>\n",
       "      <td>599.0</td>\n",
       "      <td>7.0</td>\n",
       "    </tr>\n",
       "    <tr>\n",
       "      <th>1210</th>\n",
       "      <td>1211</td>\n",
       "      <td>TAL00035388021</td>\n",
       "      <td>Angelcare - Nappy Bin Refill - 3 Pack</td>\n",
       "      <td>Angelcare</td>\n",
       "      <td>269.0</td>\n",
       "      <td>220</td>\n",
       "      <td>South Africa</td>\n",
       "      <td></td>\n",
       "      <td>0.0</td>\n",
       "      <td></td>\n",
       "      <td></td>\n",
       "      <td></td>\n",
       "      <td>395</td>\n",
       "      <td>599.0</td>\n",
       "      <td>7.0</td>\n",
       "    </tr>\n",
       "    <tr>\n",
       "      <th>1211</th>\n",
       "      <td>1212</td>\n",
       "      <td>TAL00035388407</td>\n",
       "      <td>Pampers Complete Clean Baby Wipes - 6 x 64 - 3...</td>\n",
       "      <td>Pampers</td>\n",
       "      <td>159.0</td>\n",
       "      <td>130</td>\n",
       "      <td>South Africa</td>\n",
       "      <td></td>\n",
       "      <td>0.0</td>\n",
       "      <td>19,8</td>\n",
       "      <td>21,3</td>\n",
       "      <td>3,2</td>\n",
       "      <td>15</td>\n",
       "      <td>600.0</td>\n",
       "      <td>4.0</td>\n",
       "    </tr>\n",
       "    <tr>\n",
       "      <th>1212</th>\n",
       "      <td>1213</td>\n",
       "      <td>TAL00035394505</td>\n",
       "      <td>RCT 650VA Line Interactive UPS</td>\n",
       "      <td>RCT</td>\n",
       "      <td>675.0</td>\n",
       "      <td>410</td>\n",
       "      <td>South Africa</td>\n",
       "      <td></td>\n",
       "      <td>10,72678</td>\n",
       "      <td></td>\n",
       "      <td></td>\n",
       "      <td></td>\n",
       "      <td>271</td>\n",
       "      <td>39.0</td>\n",
       "      <td>NaN</td>\n",
       "    </tr>\n",
       "    <tr>\n",
       "      <th>1213</th>\n",
       "      <td>1214</td>\n",
       "      <td>TAL00035395957</td>\n",
       "      <td>Fujifilm Instax Film plain - Pack of 10</td>\n",
       "      <td>Fujifilm Instax</td>\n",
       "      <td>155.0</td>\n",
       "      <td>119</td>\n",
       "      <td>South Africa</td>\n",
       "      <td></td>\n",
       "      <td>0.0</td>\n",
       "      <td></td>\n",
       "      <td></td>\n",
       "      <td></td>\n",
       "      <td>38</td>\n",
       "      <td>NaN</td>\n",
       "      <td>NaN</td>\n",
       "    </tr>\n",
       "  </tbody>\n",
       "</table>\n",
       "<p>1214 rows × 15 columns</p>\n",
       "</div>"
      ],
      "text/plain": [
       "      RegistryID         Barcode  \\\n",
       "0              1       300507946   \n",
       "1              2       300507946   \n",
       "2              3     10325354918   \n",
       "3              4     27131187035   \n",
       "4              5     27131187035   \n",
       "...          ...             ...   \n",
       "1209        1210  TAL00035388021   \n",
       "1210        1211  TAL00035388021   \n",
       "1211        1212  TAL00035388407   \n",
       "1212        1213  TAL00035394505   \n",
       "1213        1214  TAL00035395957   \n",
       "\n",
       "                                     ProductDescription            Brand  \\\n",
       "0         Hikvision 1080P 2MP Turbo HD IR Bullet Camera        Hikvision   \n",
       "1         Hikvision 1080P 2MP Turbo HD IR Bullet Camera        Hikvision   \n",
       "2                              ZEE 3-in-1 Unisex Gaiter              ZEE   \n",
       "3         Estee Lauder Double Wear Stay In Place Makeup     Estee Lauder   \n",
       "4         Estee Lauder Double Wear Stay In Place Makeup     Estee Lauder   \n",
       "...                                                 ...              ...   \n",
       "1209              Angelcare - Nappy Bin Refill - 3 Pack        Angelcare   \n",
       "1210              Angelcare - Nappy Bin Refill - 3 Pack        Angelcare   \n",
       "1211  Pampers Complete Clean Baby Wipes - 6 x 64 - 3...          Pampers   \n",
       "1212                     RCT 650VA Line Interactive UPS              RCT   \n",
       "1213            Fujifilm Instax Film plain - Pack of 10  Fujifilm Instax   \n",
       "\n",
       "      Price  Quantity  StockCountry Weight_kg Volume_litre Length Width  \\\n",
       "0     399.0       493                                  0.0                \n",
       "1     399.0       493                                  0.0                \n",
       "2     139.0       467                                  0.0                \n",
       "3     655.0       275  South Africa                    0.0                \n",
       "4     655.0       275  South Africa                    0.0                \n",
       "...     ...       ...           ...       ...          ...    ...   ...   \n",
       "1209  269.0       220  South Africa                    0.0                \n",
       "1210  269.0       220  South Africa                    0.0                \n",
       "1211  159.0       130  South Africa                    0.0   19,8  21,3   \n",
       "1212  675.0       410  South Africa               10,72678                \n",
       "1213  155.0       119  South Africa                    0.0                \n",
       "\n",
       "     Height  PathID  ItemID  ColourID  \n",
       "0                11     1.0       NaN  \n",
       "1                11     2.0       NaN  \n",
       "2                 1     NaN       1.0  \n",
       "3                 8     NaN       2.0  \n",
       "4                 9     NaN       2.0  \n",
       "...     ...     ...     ...       ...  \n",
       "1209            396   599.0       7.0  \n",
       "1210            395   599.0       7.0  \n",
       "1211    3,2      15   600.0       4.0  \n",
       "1212            271    39.0       NaN  \n",
       "1213             38     NaN       NaN  \n",
       "\n",
       "[1214 rows x 15 columns]"
      ]
     },
     "execution_count": 29,
     "metadata": {},
     "output_type": "execute_result"
    }
   ],
   "source": [
    "%%read_sql\n",
    "select * from Products_2NF\n"
   ]
  },
  {
   "cell_type": "code",
   "execution_count": 30,
   "metadata": {},
   "outputs": [
    {
     "name": "stdout",
     "output_type": "stream",
     "text": [
      "Query started at 03:26:19 PM W. Central Africa Standard Time; Query executed in 0.00 m"
     ]
    },
    {
     "data": {
      "text/plain": [
       "<sql_magic.exceptions.EmptyResult at 0x206a3892d90>"
      ]
     },
     "execution_count": 30,
     "metadata": {},
     "output_type": "execute_result"
    }
   ],
   "source": [
    "%%read_sql\n",
    "\n",
    "INSERT INTO \"Locations_3NF\" (\"StockCountry\")\n",
    "SELECT DISTINCT\n",
    "    StockCountry\n",
    "FROM \n",
    "    Products_2NF\n",
    "where StockCountry <> '';\n",
    "\n",
    "INSERT INTO \"Brands_3NF\" (\"Brand\")\n",
    "SELECT DISTINCT\n",
    "    Brand\n",
    "FROM \n",
    "    Products_2NF\n",
    "where Brand <> '';\n",
    "\n",
    "\n",
    "INSERT INTO \"Colours_3NF\" (\"Colour\")\n",
    "SELECT DISTINCT\n",
    "    Colour\n",
    "FROM \n",
    "    Colours_2NF;\n",
    "\n",
    "\n",
    "INSERT INTO \"PackageContents_3NF\" (\"ItemDescription\",\"PackType\",\"Warranty\")\n",
    "SELECT DISTINCT\n",
    "    ItemDescription,\n",
    "    PackType,\n",
    "    Warranty\n",
    "FROM \n",
    "    PackageContents_2NF;\n",
    "\n",
    "\n",
    "INSERT INTO \"Navigation_3NF\" (\"NavigationPath\")\n",
    "SELECT DISTINCT\n",
    "    NavigationPath\n",
    "FROM \n",
    "    Navigation_2NF;\n",
    "\n",
    "\n"
   ]
  },
  {
   "cell_type": "markdown",
   "metadata": {},
   "source": [
    "### <font color='turquoise'>Action: proceed with the insertion into `Products_3NF`. </font>\n",
    "Take note of the joins required for additional data contained in other tables. "
   ]
  },
  {
   "cell_type": "code",
   "execution_count": 31,
   "metadata": {},
   "outputs": [
    {
     "name": "stdout",
     "output_type": "stream",
     "text": [
      "Query started at 03:26:22 PM W. Central Africa Standard Time; Query executed in 0.00 m"
     ]
    },
    {
     "data": {
      "text/plain": [
       "<sql_magic.exceptions.EmptyResult at 0x206a3992ac0>"
      ]
     },
     "execution_count": 31,
     "metadata": {},
     "output_type": "execute_result"
    }
   ],
   "source": [
    "%%read_sql\n",
    "\n",
    "INSERT INTO \"Products_3NF\" (\"PathID\",\"ItemID\",\"ColourID\",\"BrandID\",\"LocationID\",\n",
    "                            \"Barcode\",\"ProductDescription\",\"Price\",\n",
    "                            \"Quantity\",\"Weight_kg\",\"Volume_litre\",\n",
    "                            \"Length\",\"Width\",\"Height\")\n",
    "SELECT\n",
    "    PathID,\n",
    "    ItemID,\n",
    "    ColourID,\n",
    "    BrandID,\n",
    "    LocationID,\n",
    "    Barcode,\n",
    "    ProductDescription,\n",
    "    Price,\n",
    "    Quantity,\n",
    "    Weight_kg,\n",
    "    Volume_litre,\n",
    "    Length,\n",
    "    Width,\n",
    "    Height\n",
    "FROM \n",
    "    Products_2NF\n",
    "LEFT JOIN Brands_3NF ON Products_2NF.Brand = Brands_3NF.BrandID \n",
    "LEFT JOIN Locations_3NF ON Products_2NF.StockCountry = Locations_3NF.LocationID\n",
    "\n",
    "\n"
   ]
  },
  {
   "cell_type": "code",
   "execution_count": 32,
   "metadata": {},
   "outputs": [
    {
     "name": "stdout",
     "output_type": "stream",
     "text": [
      "Query started at 03:26:24 PM W. Central Africa Standard Time; Query executed in 0.00 m"
     ]
    },
    {
     "data": {
      "text/html": [
       "<div>\n",
       "<style scoped>\n",
       "    .dataframe tbody tr th:only-of-type {\n",
       "        vertical-align: middle;\n",
       "    }\n",
       "\n",
       "    .dataframe tbody tr th {\n",
       "        vertical-align: top;\n",
       "    }\n",
       "\n",
       "    .dataframe thead th {\n",
       "        text-align: right;\n",
       "    }\n",
       "</style>\n",
       "<table border=\"1\" class=\"dataframe\">\n",
       "  <thead>\n",
       "    <tr style=\"text-align: right;\">\n",
       "      <th></th>\n",
       "      <th>LocationID</th>\n",
       "      <th>StockCountry</th>\n",
       "    </tr>\n",
       "  </thead>\n",
       "  <tbody>\n",
       "    <tr>\n",
       "      <th>0</th>\n",
       "      <td>1</td>\n",
       "      <td>South Africa</td>\n",
       "    </tr>\n",
       "    <tr>\n",
       "      <th>1</th>\n",
       "      <td>2</td>\n",
       "      <td>United Kingdom</td>\n",
       "    </tr>\n",
       "  </tbody>\n",
       "</table>\n",
       "</div>"
      ],
      "text/plain": [
       "   LocationID    StockCountry\n",
       "0           1    South Africa\n",
       "1           2  United Kingdom"
      ]
     },
     "execution_count": 32,
     "metadata": {},
     "output_type": "execute_result"
    }
   ],
   "source": [
    "%%read_sql\n",
    "select * from Locations_3NF"
   ]
  },
  {
   "cell_type": "markdown",
   "metadata": {},
   "source": [
    "### <font color='turquoise'>Action: proceed with the insertion into `Transactions_3NF`.   </font>\n",
    "\n",
    "Follow previous proceedure, and checks. "
   ]
  },
  {
   "cell_type": "code",
   "execution_count": 33,
   "metadata": {},
   "outputs": [
    {
     "name": "stdout",
     "output_type": "stream",
     "text": [
      "Query started at 03:26:27 PM W. Central Africa Standard Time; Query executed in 0.00 m"
     ]
    },
    {
     "data": {
      "text/plain": [
       "<sql_magic.exceptions.EmptyResult at 0x206a39cd0a0>"
      ]
     },
     "execution_count": 33,
     "metadata": {},
     "output_type": "execute_result"
    }
   ],
   "source": [
    "%%read_sql\n",
    "\n",
    "INSERT INTO \"Transactions_3NF\"(\"CartID||Barcode||UserName\",\"CartID\",\"Barcode\",\"UserID\")\n",
    "SELECT DISTINCT\n",
    "    CartID||Transactions_2NF.Barcode||Transactions_2NF.UserName,\n",
    "    CartID,\n",
    "    Transactions_2NF.Barcode,\n",
    "    Transactions_2NF.Username\n",
    "FROM\n",
    "    Transactions_2NF\n",
    "LEFT JOIN Users_3NF ON Transactions_2NF.Username = Users_3NF.Username\n",
    "LEFT JOIN Products_3NF ON Transactions_2NF.Barcode = Products_3NF.Barcode ;\n",
    "\n"
   ]
  },
  {
   "cell_type": "markdown",
   "metadata": {},
   "source": [
    "### <font color='turquoise'>Action: Investigate the DB.   </font>\n",
    "\n",
    "Note - the tables counts below are what you should arrive at. If you don't, reconsider how you have done the inserts above. Having the tables correctly formatted will allow to answer the questions more easily, and without errors.\n",
    "\n",
    "| Table Name | Count |\n",
    "| --- | --- |\n",
    "| Brands_3NF | 232 |\n",
    "| Carts_3NF |  190 |\n",
    "| Colours_3NF | 17 |\n",
    "| Locations_3NF | 2 |\n",
    "| Navigation_3NF | 396 |\n",
    "| PackageContents_3NF | 600 |\n",
    "| Products_3NF | 1214 |\n",
    "| Transactions_3NF | 275 |\n",
    "| Users_3NF | 158 |"
   ]
  },
  {
   "cell_type": "code",
   "execution_count": 34,
   "metadata": {},
   "outputs": [
    {
     "name": "stdout",
     "output_type": "stream",
     "text": [
      "Query started at 03:26:30 PM W. Central Africa Standard Time; Query executed in 0.00 m"
     ]
    },
    {
     "data": {
      "text/html": [
       "<div>\n",
       "<style scoped>\n",
       "    .dataframe tbody tr th:only-of-type {\n",
       "        vertical-align: middle;\n",
       "    }\n",
       "\n",
       "    .dataframe tbody tr th {\n",
       "        vertical-align: top;\n",
       "    }\n",
       "\n",
       "    .dataframe thead th {\n",
       "        text-align: right;\n",
       "    }\n",
       "</style>\n",
       "<table border=\"1\" class=\"dataframe\">\n",
       "  <thead>\n",
       "    <tr style=\"text-align: right;\">\n",
       "      <th></th>\n",
       "      <th>table_name</th>\n",
       "      <th>count(*)</th>\n",
       "    </tr>\n",
       "  </thead>\n",
       "  <tbody>\n",
       "    <tr>\n",
       "      <th>0</th>\n",
       "      <td>Brands_3NF</td>\n",
       "      <td>232</td>\n",
       "    </tr>\n",
       "    <tr>\n",
       "      <th>1</th>\n",
       "      <td>Carts_3NF</td>\n",
       "      <td>190</td>\n",
       "    </tr>\n",
       "    <tr>\n",
       "      <th>2</th>\n",
       "      <td>Colours_3NF</td>\n",
       "      <td>17</td>\n",
       "    </tr>\n",
       "    <tr>\n",
       "      <th>3</th>\n",
       "      <td>Locations_3NF</td>\n",
       "      <td>2</td>\n",
       "    </tr>\n",
       "    <tr>\n",
       "      <th>4</th>\n",
       "      <td>Navigation_3NF</td>\n",
       "      <td>396</td>\n",
       "    </tr>\n",
       "    <tr>\n",
       "      <th>5</th>\n",
       "      <td>PackageContents_3NF</td>\n",
       "      <td>600</td>\n",
       "    </tr>\n",
       "    <tr>\n",
       "      <th>6</th>\n",
       "      <td>Products_3NF</td>\n",
       "      <td>1214</td>\n",
       "    </tr>\n",
       "    <tr>\n",
       "      <th>7</th>\n",
       "      <td>Transactions_3NF</td>\n",
       "      <td>275</td>\n",
       "    </tr>\n",
       "    <tr>\n",
       "      <th>8</th>\n",
       "      <td>Users_3NF</td>\n",
       "      <td>158</td>\n",
       "    </tr>\n",
       "  </tbody>\n",
       "</table>\n",
       "</div>"
      ],
      "text/plain": [
       "            table_name  count(*)\n",
       "0           Brands_3NF       232\n",
       "1            Carts_3NF       190\n",
       "2          Colours_3NF        17\n",
       "3        Locations_3NF         2\n",
       "4       Navigation_3NF       396\n",
       "5  PackageContents_3NF       600\n",
       "6         Products_3NF      1214\n",
       "7     Transactions_3NF       275\n",
       "8            Users_3NF       158"
      ]
     },
     "execution_count": 34,
     "metadata": {},
     "output_type": "execute_result"
    }
   ],
   "source": [
    "%%read_sql \n",
    "\n",
    "-- How many entries are here in each of the tables in the database now? \n",
    "select 'Products_3NF' as table_name, count(*) from Products_3NF\n",
    "UNION\n",
    "select 'Transactions_3NF' as table_name, count(*) from Transactions_3NF\n",
    "UNION\n",
    "select 'Users_3NF' as table_name, count(*) from Users_3NF\n",
    "UNION\n",
    "select 'Navigation_3NF' as table_name, count(*) from Navigation_3NF\n",
    "UNION\n",
    "select 'PackageContents_3NF' as table_name, count(*) from PackageContents_3NF\n",
    "UNION\n",
    "select 'Colours_3NF' as table_name, count(*) from Colours_3NF\n",
    "UNION\n",
    "select 'Brands_3NF' as table_name, count(*) from Brands_3NF\n",
    "UNION\n",
    "select 'Locations_3NF' as table_name, count(*) from Locations_3NF\n",
    "UNION\n",
    "select 'Carts_3NF' as table_name, count(*) from Carts_3NF\n"
   ]
  },
  {
   "cell_type": "markdown",
   "metadata": {
    "id": "zMvJZFQsGE03"
   },
   "source": [
    "<a id='MCQ_questions'></a>\n",
    "## 9. MCQ Questions\n",
    "\n",
    "Having completed the normalisation of the database, you may use the following cells to help you answer the MCQs for the predict. "
   ]
  },
  {
   "cell_type": "markdown",
   "metadata": {
    "id": "hEVNjuirGE03"
   },
   "source": [
    "### Q1) How many unique products does the company have?"
   ]
  },
  {
   "cell_type": "code",
   "execution_count": 34,
   "metadata": {
    "collapsed": true
   },
   "outputs": [
    {
     "name": "stdout",
     "output_type": "stream",
     "text": [
      "Query started at 10:03:13 AM W. Central Africa Standard Time; Query executed in 0.00 m"
     ]
    },
    {
     "data": {
      "text/html": [
       "<div>\n",
       "<style scoped>\n",
       "    .dataframe tbody tr th:only-of-type {\n",
       "        vertical-align: middle;\n",
       "    }\n",
       "\n",
       "    .dataframe tbody tr th {\n",
       "        vertical-align: top;\n",
       "    }\n",
       "\n",
       "    .dataframe thead th {\n",
       "        text-align: right;\n",
       "    }\n",
       "</style>\n",
       "<table border=\"1\" class=\"dataframe\">\n",
       "  <thead>\n",
       "    <tr style=\"text-align: right;\">\n",
       "      <th></th>\n",
       "      <th>COUNT(DISTINCT ProductDescription)</th>\n",
       "    </tr>\n",
       "  </thead>\n",
       "  <tbody>\n",
       "    <tr>\n",
       "      <th>0</th>\n",
       "      <td>603</td>\n",
       "    </tr>\n",
       "  </tbody>\n",
       "</table>\n",
       "</div>"
      ],
      "text/plain": [
       "   COUNT(DISTINCT ProductDescription)\n",
       "0                                 603"
      ]
     },
     "execution_count": 34,
     "metadata": {},
     "output_type": "execute_result"
    }
   ],
   "source": [
    "%%read_sql\n",
    "SELECT COUNT(DISTINCT ProductDescription)\n",
    "FROM Products_3NF;\n",
    "\n"
   ]
  },
  {
   "cell_type": "markdown",
   "metadata": {
    "id": "WsQZQ8tuGE03"
   },
   "source": [
    "### Q2) How many users bought from Bhejane in April 2020?"
   ]
  },
  {
   "cell_type": "code",
   "execution_count": 151,
   "metadata": {
    "collapsed": true,
    "id": "hFz7XUw_GE04"
   },
   "outputs": [
    {
     "name": "stdout",
     "output_type": "stream",
     "text": [
      "Query started at 07:30:01 PM W. Central Africa Standard Time; Query executed in 0.00 m"
     ]
    },
    {
     "data": {
      "text/html": [
       "<div>\n",
       "<style scoped>\n",
       "    .dataframe tbody tr th:only-of-type {\n",
       "        vertical-align: middle;\n",
       "    }\n",
       "\n",
       "    .dataframe tbody tr th {\n",
       "        vertical-align: top;\n",
       "    }\n",
       "\n",
       "    .dataframe thead th {\n",
       "        text-align: right;\n",
       "    }\n",
       "</style>\n",
       "<table border=\"1\" class=\"dataframe\">\n",
       "  <thead>\n",
       "    <tr style=\"text-align: right;\">\n",
       "      <th></th>\n",
       "      <th>COUNT(UserID)</th>\n",
       "      <th>Barcode</th>\n",
       "      <th>InvoiceDate</th>\n",
       "      <th>Year</th>\n",
       "      <th>Month</th>\n",
       "    </tr>\n",
       "  </thead>\n",
       "  <tbody>\n",
       "    <tr>\n",
       "      <th>0</th>\n",
       "      <td>57</td>\n",
       "      <td>4800361367493</td>\n",
       "      <td>2020-04-14 0:00:00</td>\n",
       "      <td>2020</td>\n",
       "      <td>04</td>\n",
       "    </tr>\n",
       "  </tbody>\n",
       "</table>\n",
       "</div>"
      ],
      "text/plain": [
       "   COUNT(UserID)        Barcode         InvoiceDate  Year Month\n",
       "0             57  4800361367493  2020-04-14 0:00:00  2020    04"
      ]
     },
     "execution_count": 151,
     "metadata": {},
     "output_type": "execute_result"
    }
   ],
   "source": [
    "%%read_sql\n",
    "SELECT COUNT(UserID), Barcode, InvoiceDate, \n",
    "SUBSTR(InvoiceDate,1,4) AS Year,\n",
    "SUBSTR(InvoiceDate,6,2) AS Month\n",
    "FROM Transactions_3NF T\n",
    "INNER JOIN Carts_3NF C\n",
    "ON T.CartID = C.CartID\n",
    "WHERE Month = '04'\n"
   ]
  },
  {
   "cell_type": "markdown",
   "metadata": {
    "id": "iBRifthWGE04"
   },
   "source": [
    "### Q3) How many users bought 3 or more items that cost more than R1000?"
   ]
  },
  {
   "cell_type": "code",
   "execution_count": 158,
   "metadata": {},
   "outputs": [
    {
     "name": "stdout",
     "output_type": "stream",
     "text": [
      "Query started at 07:51:05 PM W. Central Africa Standard Time; Query executed in 0.00 m"
     ]
    },
    {
     "data": {
      "text/html": [
       "<div>\n",
       "<style scoped>\n",
       "    .dataframe tbody tr th:only-of-type {\n",
       "        vertical-align: middle;\n",
       "    }\n",
       "\n",
       "    .dataframe tbody tr th {\n",
       "        vertical-align: top;\n",
       "    }\n",
       "\n",
       "    .dataframe thead th {\n",
       "        text-align: right;\n",
       "    }\n",
       "</style>\n",
       "<table border=\"1\" class=\"dataframe\">\n",
       "  <thead>\n",
       "    <tr style=\"text-align: right;\">\n",
       "      <th></th>\n",
       "      <th>COUNT(DISTINCT C.CartID)</th>\n",
       "      <th>UserID</th>\n",
       "      <th>Barcode</th>\n",
       "      <th>Total</th>\n",
       "    </tr>\n",
       "  </thead>\n",
       "  <tbody>\n",
       "    <tr>\n",
       "      <th>0</th>\n",
       "      <td>18</td>\n",
       "      <td>Cindy</td>\n",
       "      <td>741311301174</td>\n",
       "      <td>1999.0</td>\n",
       "    </tr>\n",
       "  </tbody>\n",
       "</table>\n",
       "</div>"
      ],
      "text/plain": [
       "   COUNT(DISTINCT C.CartID) UserID       Barcode   Total\n",
       "0                        18  Cindy  741311301174  1999.0"
      ]
     },
     "execution_count": 158,
     "metadata": {},
     "output_type": "execute_result"
    }
   ],
   "source": [
    "%%read_sql\n",
    "SELECT COUNT(DISTINCT C.CartID), UserID, Barcode, Total\n",
    "FROM Transactions_3NF T\n",
    "INNER JOIN Carts_3NF C\n",
    "ON T.CartID = C.CartID\n",
    "WHERE Total > 1000"
   ]
  },
  {
   "cell_type": "markdown",
   "metadata": {
    "id": "9_-usJoSGE04"
   },
   "source": [
    "### **Q4) Which user made the largest purchase on a single transaction?**"
   ]
  },
  {
   "cell_type": "code",
   "execution_count": 89,
   "metadata": {
    "collapsed": true,
    "id": "3i7wS1jJGE04"
   },
   "outputs": [
    {
     "name": "stdout",
     "output_type": "stream",
     "text": [
      "Query started at 04:25:56 PM W. Central Africa Standard Time; Query executed in 0.00 m"
     ]
    },
    {
     "data": {
      "text/html": [
       "<div>\n",
       "<style scoped>\n",
       "    .dataframe tbody tr th:only-of-type {\n",
       "        vertical-align: middle;\n",
       "    }\n",
       "\n",
       "    .dataframe tbody tr th {\n",
       "        vertical-align: top;\n",
       "    }\n",
       "\n",
       "    .dataframe thead th {\n",
       "        text-align: right;\n",
       "    }\n",
       "</style>\n",
       "<table border=\"1\" class=\"dataframe\">\n",
       "  <thead>\n",
       "    <tr style=\"text-align: right;\">\n",
       "      <th></th>\n",
       "      <th>UserID</th>\n",
       "      <th>MAX(Price * Quantity)</th>\n",
       "    </tr>\n",
       "  </thead>\n",
       "  <tbody>\n",
       "    <tr>\n",
       "      <th>0</th>\n",
       "      <td>Andreas Peter</td>\n",
       "      <td>1408110.0</td>\n",
       "    </tr>\n",
       "  </tbody>\n",
       "</table>\n",
       "</div>"
      ],
      "text/plain": [
       "          UserID  MAX(Price * Quantity)\n",
       "0  Andreas Peter              1408110.0"
      ]
     },
     "execution_count": 89,
     "metadata": {},
     "output_type": "execute_result"
    }
   ],
   "source": [
    "%%read_sql\n",
    "SELECT UserID, MAX(Price * Quantity)\n",
    "FROM Transactions_3NF T\n",
    "INNER JOIN Products_3NF P\n",
    "ON T.Barcode = P.Barcode\n"
   ]
  },
  {
   "cell_type": "markdown",
   "metadata": {
    "id": "Ik1EeR1dGE04"
   },
   "source": [
    "### **Q5) How many components does the product: \"5m Colour Changing RGB LED Strip Light\" (MPTAL57588104) come with?**"
   ]
  },
  {
   "cell_type": "code",
   "execution_count": 88,
   "metadata": {
    "collapsed": true,
    "id": "BhTlfGsyGE04"
   },
   "outputs": [
    {
     "name": "stdout",
     "output_type": "stream",
     "text": [
      "Query started at 04:25:41 PM W. Central Africa Standard Time; Query executed in 0.00 m"
     ]
    },
    {
     "data": {
      "text/html": [
       "<div>\n",
       "<style scoped>\n",
       "    .dataframe tbody tr th:only-of-type {\n",
       "        vertical-align: middle;\n",
       "    }\n",
       "\n",
       "    .dataframe tbody tr th {\n",
       "        vertical-align: top;\n",
       "    }\n",
       "\n",
       "    .dataframe thead th {\n",
       "        text-align: right;\n",
       "    }\n",
       "</style>\n",
       "<table border=\"1\" class=\"dataframe\">\n",
       "  <thead>\n",
       "    <tr style=\"text-align: right;\">\n",
       "      <th></th>\n",
       "      <th>COUNT(Quantity)</th>\n",
       "      <th>ProductDescription</th>\n",
       "    </tr>\n",
       "  </thead>\n",
       "  <tbody>\n",
       "    <tr>\n",
       "      <th>0</th>\n",
       "      <td>8</td>\n",
       "      <td>5m Colour Changing RGB LED Strip Light</td>\n",
       "    </tr>\n",
       "  </tbody>\n",
       "</table>\n",
       "</div>"
      ],
      "text/plain": [
       "   COUNT(Quantity)                      ProductDescription\n",
       "0                8  5m Colour Changing RGB LED Strip Light"
      ]
     },
     "execution_count": 88,
     "metadata": {},
     "output_type": "execute_result"
    }
   ],
   "source": [
    "%%read_sql\n",
    "SELECT COUNT(Quantity), ProductDescription\n",
    "FROM Products_3NF\n",
    "WHERE ProductDescription = '5m Colour Changing RGB LED Strip Light'\n"
   ]
  },
  {
   "cell_type": "markdown",
   "metadata": {
    "id": "CLNf-BoGGE04"
   },
   "source": [
    "### **Q6) How many brands are available at Bhejane?**"
   ]
  },
  {
   "cell_type": "code",
   "execution_count": 49,
   "metadata": {
    "collapsed": true,
    "id": "afrVCqnYGE04"
   },
   "outputs": [
    {
     "name": "stdout",
     "output_type": "stream",
     "text": [
      "Query started at 02:06:55 AM W. Central Africa Standard Time; Query executed in 0.00 m"
     ]
    },
    {
     "data": {
      "text/html": [
       "<div>\n",
       "<style scoped>\n",
       "    .dataframe tbody tr th:only-of-type {\n",
       "        vertical-align: middle;\n",
       "    }\n",
       "\n",
       "    .dataframe tbody tr th {\n",
       "        vertical-align: top;\n",
       "    }\n",
       "\n",
       "    .dataframe thead th {\n",
       "        text-align: right;\n",
       "    }\n",
       "</style>\n",
       "<table border=\"1\" class=\"dataframe\">\n",
       "  <thead>\n",
       "    <tr style=\"text-align: right;\">\n",
       "      <th></th>\n",
       "      <th>COUNT(*)</th>\n",
       "    </tr>\n",
       "  </thead>\n",
       "  <tbody>\n",
       "    <tr>\n",
       "      <th>0</th>\n",
       "      <td>232</td>\n",
       "    </tr>\n",
       "  </tbody>\n",
       "</table>\n",
       "</div>"
      ],
      "text/plain": [
       "   COUNT(*)\n",
       "0       232"
      ]
     },
     "execution_count": 49,
     "metadata": {},
     "output_type": "execute_result"
    }
   ],
   "source": [
    "%%read_sql\n",
    "SELECT COUNT(*) FROM Brands_3NF\n"
   ]
  },
  {
   "cell_type": "markdown",
   "metadata": {},
   "source": [
    "### 7) What is the price of the \"Verimark - Floorwiz 2in1 Mop\"?"
   ]
  },
  {
   "cell_type": "code",
   "execution_count": 50,
   "metadata": {
    "collapsed": true,
    "id": "2bQwTSaAGE05"
   },
   "outputs": [
    {
     "name": "stdout",
     "output_type": "stream",
     "text": [
      "Query started at 02:09:32 AM W. Central Africa Standard Time; Query executed in 0.00 m"
     ]
    },
    {
     "data": {
      "text/html": [
       "<div>\n",
       "<style scoped>\n",
       "    .dataframe tbody tr th:only-of-type {\n",
       "        vertical-align: middle;\n",
       "    }\n",
       "\n",
       "    .dataframe tbody tr th {\n",
       "        vertical-align: top;\n",
       "    }\n",
       "\n",
       "    .dataframe thead th {\n",
       "        text-align: right;\n",
       "    }\n",
       "</style>\n",
       "<table border=\"1\" class=\"dataframe\">\n",
       "  <thead>\n",
       "    <tr style=\"text-align: right;\">\n",
       "      <th></th>\n",
       "      <th>Price</th>\n",
       "      <th>ProductDescription</th>\n",
       "    </tr>\n",
       "  </thead>\n",
       "  <tbody>\n",
       "    <tr>\n",
       "      <th>0</th>\n",
       "      <td>179.0</td>\n",
       "      <td>Verimark - Floorwiz 2in1 Mop</td>\n",
       "    </tr>\n",
       "    <tr>\n",
       "      <th>1</th>\n",
       "      <td>179.0</td>\n",
       "      <td>Verimark - Floorwiz 2in1 Mop</td>\n",
       "    </tr>\n",
       "    <tr>\n",
       "      <th>2</th>\n",
       "      <td>179.0</td>\n",
       "      <td>Verimark - Floorwiz 2in1 Mop</td>\n",
       "    </tr>\n",
       "  </tbody>\n",
       "</table>\n",
       "</div>"
      ],
      "text/plain": [
       "   Price            ProductDescription\n",
       "0  179.0  Verimark - Floorwiz 2in1 Mop\n",
       "1  179.0  Verimark - Floorwiz 2in1 Mop\n",
       "2  179.0  Verimark - Floorwiz 2in1 Mop"
      ]
     },
     "execution_count": 50,
     "metadata": {},
     "output_type": "execute_result"
    }
   ],
   "source": [
    "%%read_sql\n",
    "SELECT Price, ProductDescription\n",
    "FROM Products_3NF\n",
    "WHERE ProductDescription = 'Verimark - Floorwiz 2in1 Mop'\n"
   ]
  },
  {
   "cell_type": "markdown",
   "metadata": {
    "id": "BGaE5N7nGE04"
   },
   "source": [
    "### Q8) Calculate the package volume of the \"Russell Hobbs - Slow Cooker\" using the given dimensions"
   ]
  },
  {
   "cell_type": "code",
   "execution_count": 86,
   "metadata": {
    "collapsed": true,
    "id": "4pOPg-jAGE04"
   },
   "outputs": [
    {
     "name": "stdout",
     "output_type": "stream",
     "text": [
      "Query started at 01:44:01 PM W. Central Africa Standard Time; Query executed in 0.00 m"
     ]
    },
    {
     "data": {
      "text/html": [
       "<div>\n",
       "<style scoped>\n",
       "    .dataframe tbody tr th:only-of-type {\n",
       "        vertical-align: middle;\n",
       "    }\n",
       "\n",
       "    .dataframe tbody tr th {\n",
       "        vertical-align: top;\n",
       "    }\n",
       "\n",
       "    .dataframe thead th {\n",
       "        text-align: right;\n",
       "    }\n",
       "</style>\n",
       "<table border=\"1\" class=\"dataframe\">\n",
       "  <thead>\n",
       "    <tr style=\"text-align: right;\">\n",
       "      <th></th>\n",
       "      <th>ProductDescription</th>\n",
       "      <th>Length * Width * Height</th>\n",
       "    </tr>\n",
       "  </thead>\n",
       "  <tbody>\n",
       "    <tr>\n",
       "      <th>0</th>\n",
       "      <td>Russell Hobbs - Slow Cooker</td>\n",
       "      <td>26928.0</td>\n",
       "    </tr>\n",
       "  </tbody>\n",
       "</table>\n",
       "</div>"
      ],
      "text/plain": [
       "            ProductDescription  Length * Width * Height\n",
       "0  Russell Hobbs - Slow Cooker                  26928.0"
      ]
     },
     "execution_count": 86,
     "metadata": {},
     "output_type": "execute_result"
    }
   ],
   "source": [
    "%%read_sql\n",
    "SELECT DISTINCT(ProductDescription), Length * Width * Height\n",
    "FROM Products_3NF\n",
    "WHERE ProductDescription = 'Russell Hobbs - Slow Cooker'"
   ]
  },
  {
   "cell_type": "markdown",
   "metadata": {
    "id": "ZDogodiAGE04"
   },
   "source": [
    "### Q9) Which user made the most transactions in the Year 2020?"
   ]
  },
  {
   "cell_type": "code",
   "execution_count": 80,
   "metadata": {},
   "outputs": [
    {
     "name": "stdout",
     "output_type": "stream",
     "text": [
      "Query started at 04:16:47 PM W. Central Africa Standard Time; Query executed in 0.00 m"
     ]
    },
    {
     "data": {
      "text/html": [
       "<div>\n",
       "<style scoped>\n",
       "    .dataframe tbody tr th:only-of-type {\n",
       "        vertical-align: middle;\n",
       "    }\n",
       "\n",
       "    .dataframe tbody tr th {\n",
       "        vertical-align: top;\n",
       "    }\n",
       "\n",
       "    .dataframe thead th {\n",
       "        text-align: right;\n",
       "    }\n",
       "</style>\n",
       "<table border=\"1\" class=\"dataframe\">\n",
       "  <thead>\n",
       "    <tr style=\"text-align: right;\">\n",
       "      <th></th>\n",
       "      <th>UserID</th>\n",
       "      <th>InvoiceDate</th>\n",
       "      <th>MAX(Total)</th>\n",
       "    </tr>\n",
       "  </thead>\n",
       "  <tbody>\n",
       "    <tr>\n",
       "      <th>0</th>\n",
       "      <td>Erlo</td>\n",
       "      <td>2020-04-10 0:00:00</td>\n",
       "      <td>775.0</td>\n",
       "    </tr>\n",
       "  </tbody>\n",
       "</table>\n",
       "</div>"
      ],
      "text/plain": [
       "  UserID         InvoiceDate  MAX(Total)\n",
       "0   Erlo  2020-04-10 0:00:00       775.0"
      ]
     },
     "execution_count": 80,
     "metadata": {},
     "output_type": "execute_result"
    }
   ],
   "source": [
    "%%read_sql\n",
    "SELECT UserID, InvoiceDate, MAX(Total)\n",
    "FROM Carts_3NF \n",
    "INNER JOIN Transactions_3NF \n",
    "ON Carts_3NF.CartID = Transactions_3NF.CartID\n",
    "WHERE UserID IN ('Erlo','Adeebah','Cornelis','Shamil')\n"
   ]
  },
  {
   "cell_type": "markdown",
   "metadata": {
    "id": "A_5dz4coGE04"
   },
   "source": [
    "### Q10) What is the total number of users that shop at Bhejane?"
   ]
  },
  {
   "cell_type": "code",
   "execution_count": 106,
   "metadata": {
    "collapsed": true,
    "id": "gVDNbI7pGE04"
   },
   "outputs": [
    {
     "name": "stdout",
     "output_type": "stream",
     "text": [
      "Query started at 02:11:28 PM W. Central Africa Standard Time; Query executed in 0.00 m"
     ]
    },
    {
     "data": {
      "text/html": [
       "<div>\n",
       "<style scoped>\n",
       "    .dataframe tbody tr th:only-of-type {\n",
       "        vertical-align: middle;\n",
       "    }\n",
       "\n",
       "    .dataframe tbody tr th {\n",
       "        vertical-align: top;\n",
       "    }\n",
       "\n",
       "    .dataframe thead th {\n",
       "        text-align: right;\n",
       "    }\n",
       "</style>\n",
       "<table border=\"1\" class=\"dataframe\">\n",
       "  <thead>\n",
       "    <tr style=\"text-align: right;\">\n",
       "      <th></th>\n",
       "      <th>COUNT(UserID)</th>\n",
       "      <th>Barcode</th>\n",
       "    </tr>\n",
       "  </thead>\n",
       "  <tbody>\n",
       "    <tr>\n",
       "      <th>0</th>\n",
       "      <td>275</td>\n",
       "      <td>43859499182</td>\n",
       "    </tr>\n",
       "  </tbody>\n",
       "</table>\n",
       "</div>"
      ],
      "text/plain": [
       "   COUNT(UserID)      Barcode\n",
       "0            275  43859499182"
      ]
     },
     "execution_count": 106,
     "metadata": {},
     "output_type": "execute_result"
    }
   ],
   "source": [
    "%%read_sql\n",
    "SELECT COUNT(UserID), Barcode\n",
    "FROM Transactions_3NF\n"
   ]
  },
  {
   "cell_type": "markdown",
   "metadata": {
    "id": "8AS0LCOaGE04"
   },
   "source": [
    "### Q11) What is the record count for the Colours_3NF Table?"
   ]
  },
  {
   "cell_type": "code",
   "execution_count": 108,
   "metadata": {
    "collapsed": true,
    "id": "9UdfWoubGE04"
   },
   "outputs": [
    {
     "name": "stdout",
     "output_type": "stream",
     "text": [
      "Query started at 02:14:02 PM W. Central Africa Standard Time; Query executed in 0.00 m"
     ]
    },
    {
     "data": {
      "text/html": [
       "<div>\n",
       "<style scoped>\n",
       "    .dataframe tbody tr th:only-of-type {\n",
       "        vertical-align: middle;\n",
       "    }\n",
       "\n",
       "    .dataframe tbody tr th {\n",
       "        vertical-align: top;\n",
       "    }\n",
       "\n",
       "    .dataframe thead th {\n",
       "        text-align: right;\n",
       "    }\n",
       "</style>\n",
       "<table border=\"1\" class=\"dataframe\">\n",
       "  <thead>\n",
       "    <tr style=\"text-align: right;\">\n",
       "      <th></th>\n",
       "      <th>COUNT(*)</th>\n",
       "    </tr>\n",
       "  </thead>\n",
       "  <tbody>\n",
       "    <tr>\n",
       "      <th>0</th>\n",
       "      <td>17</td>\n",
       "    </tr>\n",
       "  </tbody>\n",
       "</table>\n",
       "</div>"
      ],
      "text/plain": [
       "   COUNT(*)\n",
       "0        17"
      ]
     },
     "execution_count": 108,
     "metadata": {},
     "output_type": "execute_result"
    }
   ],
   "source": [
    "%%read_sql\n",
    "SELECT COUNT(*) FROM Colours_3NF\n"
   ]
  },
  {
   "cell_type": "markdown",
   "metadata": {
    "id": "TINkZg-7GE05"
   },
   "source": [
    "### Q12) What would the total price be if I had the following items in my cart?\n",
    "* MPTAL57588104\n",
    "* 5000394203921\n",
    "* 6932391917652"
   ]
  },
  {
   "cell_type": "code",
   "execution_count": 87,
   "metadata": {},
   "outputs": [
    {
     "name": "stdout",
     "output_type": "stream",
     "text": [
      "Query started at 04:24:39 PM W. Central Africa Standard Time; Query executed in 0.00 m"
     ]
    },
    {
     "data": {
      "text/html": [
       "<div>\n",
       "<style scoped>\n",
       "    .dataframe tbody tr th:only-of-type {\n",
       "        vertical-align: middle;\n",
       "    }\n",
       "\n",
       "    .dataframe tbody tr th {\n",
       "        vertical-align: top;\n",
       "    }\n",
       "\n",
       "    .dataframe thead th {\n",
       "        text-align: right;\n",
       "    }\n",
       "</style>\n",
       "<table border=\"1\" class=\"dataframe\">\n",
       "  <thead>\n",
       "    <tr style=\"text-align: right;\">\n",
       "      <th></th>\n",
       "      <th>Barcode</th>\n",
       "      <th>SUM(Price)</th>\n",
       "    </tr>\n",
       "  </thead>\n",
       "  <tbody>\n",
       "    <tr>\n",
       "      <th>0</th>\n",
       "      <td>5000394203921</td>\n",
       "      <td>3982.0</td>\n",
       "    </tr>\n",
       "  </tbody>\n",
       "</table>\n",
       "</div>"
      ],
      "text/plain": [
       "         Barcode  SUM(Price)\n",
       "0  5000394203921      3982.0"
      ]
     },
     "execution_count": 87,
     "metadata": {},
     "output_type": "execute_result"
    }
   ],
   "source": [
    "%%read_sql\n",
    "SELECT Barcode, SUM(Price)\n",
    "FROM Products_3NF \n",
    "WHERE Barcode IN ('MPTAL57588104', '5000394203921', '6932391917652')"
   ]
  },
  {
   "cell_type": "markdown",
   "metadata": {
    "id": "DGhN2UuaGE04"
   },
   "source": [
    "### Q13) What is the barcode of the most sold product?"
   ]
  },
  {
   "cell_type": "code",
   "execution_count": 81,
   "metadata": {
    "id": "t5w4A2l1GE04"
   },
   "outputs": [
    {
     "name": "stdout",
     "output_type": "stream",
     "text": [
      "Query started at 04:19:17 PM W. Central Africa Standard Time; Query executed in 0.00 m"
     ]
    },
    {
     "data": {
      "text/html": [
       "<div>\n",
       "<style scoped>\n",
       "    .dataframe tbody tr th:only-of-type {\n",
       "        vertical-align: middle;\n",
       "    }\n",
       "\n",
       "    .dataframe tbody tr th {\n",
       "        vertical-align: top;\n",
       "    }\n",
       "\n",
       "    .dataframe thead th {\n",
       "        text-align: right;\n",
       "    }\n",
       "</style>\n",
       "<table border=\"1\" class=\"dataframe\">\n",
       "  <thead>\n",
       "    <tr style=\"text-align: right;\">\n",
       "      <th></th>\n",
       "      <th>Barcode</th>\n",
       "      <th>Price</th>\n",
       "    </tr>\n",
       "  </thead>\n",
       "  <tbody>\n",
       "    <tr>\n",
       "      <th>0</th>\n",
       "      <td>4015400541813</td>\n",
       "      <td>459.0</td>\n",
       "    </tr>\n",
       "    <tr>\n",
       "      <th>1</th>\n",
       "      <td>6001106124069</td>\n",
       "      <td>50.0</td>\n",
       "    </tr>\n",
       "    <tr>\n",
       "      <th>2</th>\n",
       "      <td>6009686620537</td>\n",
       "      <td>39.0</td>\n",
       "    </tr>\n",
       "    <tr>\n",
       "      <th>3</th>\n",
       "      <td>6001865825405</td>\n",
       "      <td>23.0</td>\n",
       "    </tr>\n",
       "  </tbody>\n",
       "</table>\n",
       "</div>"
      ],
      "text/plain": [
       "         Barcode  Price\n",
       "0  4015400541813  459.0\n",
       "1  6001106124069   50.0\n",
       "2  6009686620537   39.0\n",
       "3  6001865825405   23.0"
      ]
     },
     "execution_count": 81,
     "metadata": {},
     "output_type": "execute_result"
    }
   ],
   "source": [
    "%%read_sql\n",
    "SELECT Barcode, Price\n",
    "FROM Products_3NF \n",
    "WHERE Barcode IN ('6009686620537','4015400541813','6001865825405','6001106124069')\n",
    "ORDER BY Price DESC   "
   ]
  },
  {
   "cell_type": "markdown",
   "metadata": {},
   "source": [
    "### Q14) What are the products of Cornelis’ cart on the 2020-06-28 0:00:00?"
   ]
  },
  {
   "cell_type": "code",
   "execution_count": 99,
   "metadata": {
    "collapsed": true,
    "id": "8xipCT9JGE04"
   },
   "outputs": [
    {
     "name": "stdout",
     "output_type": "stream",
     "text": [
      "Query started at 04:41:03 PM W. Central Africa Standard Time; Query executed in 0.00 m"
     ]
    },
    {
     "data": {
      "text/html": [
       "<div>\n",
       "<style scoped>\n",
       "    .dataframe tbody tr th:only-of-type {\n",
       "        vertical-align: middle;\n",
       "    }\n",
       "\n",
       "    .dataframe tbody tr th {\n",
       "        vertical-align: top;\n",
       "    }\n",
       "\n",
       "    .dataframe thead th {\n",
       "        text-align: right;\n",
       "    }\n",
       "</style>\n",
       "<table border=\"1\" class=\"dataframe\">\n",
       "  <thead>\n",
       "    <tr style=\"text-align: right;\">\n",
       "      <th></th>\n",
       "      <th>ProductDescription</th>\n",
       "      <th>UserID</th>\n",
       "      <th>InvoiceDate</th>\n",
       "    </tr>\n",
       "  </thead>\n",
       "  <tbody>\n",
       "    <tr>\n",
       "      <th>0</th>\n",
       "      <td>Dettol Body Wash - Shower Gel - Original - 600ml</td>\n",
       "      <td>Cornelis</td>\n",
       "      <td>2020-06-28 0:00:00</td>\n",
       "    </tr>\n",
       "    <tr>\n",
       "      <th>1</th>\n",
       "      <td>Vitality Aloe Vera Gel 100ml</td>\n",
       "      <td>Cornelis</td>\n",
       "      <td>2020-06-28 0:00:00</td>\n",
       "    </tr>\n",
       "    <tr>\n",
       "      <th>2</th>\n",
       "      <td>Sparq Active Resistance Loop Band - Set of 5 w...</td>\n",
       "      <td>Cornelis</td>\n",
       "      <td>2020-06-28 0:00:00</td>\n",
       "    </tr>\n",
       "    <tr>\n",
       "      <th>3</th>\n",
       "      <td>Protective Face Shield</td>\n",
       "      <td>Cornelis</td>\n",
       "      <td>2020-06-28 0:00:00</td>\n",
       "    </tr>\n",
       "  </tbody>\n",
       "</table>\n",
       "</div>"
      ],
      "text/plain": [
       "                                  ProductDescription    UserID  \\\n",
       "0   Dettol Body Wash - Shower Gel - Original - 600ml  Cornelis   \n",
       "1                       Vitality Aloe Vera Gel 100ml  Cornelis   \n",
       "2  Sparq Active Resistance Loop Band - Set of 5 w...  Cornelis   \n",
       "3                             Protective Face Shield  Cornelis   \n",
       "\n",
       "          InvoiceDate  \n",
       "0  2020-06-28 0:00:00  \n",
       "1  2020-06-28 0:00:00  \n",
       "2  2020-06-28 0:00:00  \n",
       "3  2020-06-28 0:00:00  "
      ]
     },
     "execution_count": 99,
     "metadata": {},
     "output_type": "execute_result"
    }
   ],
   "source": [
    "%%read_sql\n",
    "SELECT DISTINCT(ProductDescription), UserID, InvoiceDate\n",
    "FROM Products_3NF P\n",
    "INNER JOIN Transactions_3NF T\n",
    "ON P.Barcode = T.Barcode \n",
    "INNER JOIN Carts_3NF C\n",
    "ON T.CartID = C.CartID\n",
    "WHERE InvoiceDate IN ('2020-06-28 0:00:00') AND UserID = 'Cornelis'\n"
   ]
  },
  {
   "cell_type": "markdown",
   "metadata": {},
   "source": [
    "### Q15) Which users bought locally produced, black-coloured products on odd-numbered months of the year, and what was the total cost (rounded to the nearest integer) of the carts containing these products?"
   ]
  },
  {
   "cell_type": "code",
   "execution_count": 141,
   "metadata": {},
   "outputs": [
    {
     "name": "stdout",
     "output_type": "stream",
     "text": [
      "Query started at 07:10:39 PM W. Central Africa Standard Time; Query executed in 0.00 m"
     ]
    },
    {
     "data": {
      "text/html": [
       "<div>\n",
       "<style scoped>\n",
       "    .dataframe tbody tr th:only-of-type {\n",
       "        vertical-align: middle;\n",
       "    }\n",
       "\n",
       "    .dataframe tbody tr th {\n",
       "        vertical-align: top;\n",
       "    }\n",
       "\n",
       "    .dataframe thead th {\n",
       "        text-align: right;\n",
       "    }\n",
       "</style>\n",
       "<table border=\"1\" class=\"dataframe\">\n",
       "  <thead>\n",
       "    <tr style=\"text-align: right;\">\n",
       "      <th></th>\n",
       "      <th>Barcode</th>\n",
       "      <th>Colour</th>\n",
       "      <th>UserID</th>\n",
       "      <th>ROUND(Total)</th>\n",
       "      <th>Month</th>\n",
       "    </tr>\n",
       "  </thead>\n",
       "  <tbody>\n",
       "    <tr>\n",
       "      <th>0</th>\n",
       "      <td>741311301174</td>\n",
       "      <td>Black</td>\n",
       "      <td>Cindy</td>\n",
       "      <td>1999.0</td>\n",
       "      <td>03</td>\n",
       "    </tr>\n",
       "    <tr>\n",
       "      <th>1</th>\n",
       "      <td>5397184200193</td>\n",
       "      <td>Black</td>\n",
       "      <td>Todani</td>\n",
       "      <td>2299.0</td>\n",
       "      <td>03</td>\n",
       "    </tr>\n",
       "    <tr>\n",
       "      <th>2</th>\n",
       "      <td>6005519116789</td>\n",
       "      <td>Black</td>\n",
       "      <td>Leonard</td>\n",
       "      <td>899.0</td>\n",
       "      <td>05</td>\n",
       "    </tr>\n",
       "    <tr>\n",
       "      <th>3</th>\n",
       "      <td>6925281939952</td>\n",
       "      <td>Black</td>\n",
       "      <td>Carel</td>\n",
       "      <td>799.0</td>\n",
       "      <td>05</td>\n",
       "    </tr>\n",
       "    <tr>\n",
       "      <th>4</th>\n",
       "      <td>6932391917652</td>\n",
       "      <td>Black</td>\n",
       "      <td>Beryl</td>\n",
       "      <td>329.0</td>\n",
       "      <td>05</td>\n",
       "    </tr>\n",
       "    <tr>\n",
       "      <th>5</th>\n",
       "      <td>6941428152961</td>\n",
       "      <td>Black</td>\n",
       "      <td>Lacin</td>\n",
       "      <td>798.0</td>\n",
       "      <td>05</td>\n",
       "    </tr>\n",
       "    <tr>\n",
       "      <th>6</th>\n",
       "      <td>HTB5ABG31E3</td>\n",
       "      <td>Black</td>\n",
       "      <td>Brigette</td>\n",
       "      <td>10999.0</td>\n",
       "      <td>05</td>\n",
       "    </tr>\n",
       "    <tr>\n",
       "      <th>7</th>\n",
       "      <td>HURACANNANOWAVE1</td>\n",
       "      <td>Black</td>\n",
       "      <td>Melokuhle</td>\n",
       "      <td>816.0</td>\n",
       "      <td>05</td>\n",
       "    </tr>\n",
       "    <tr>\n",
       "      <th>8</th>\n",
       "      <td>HURACANNANOWAVE1</td>\n",
       "      <td>Black</td>\n",
       "      <td>Neo</td>\n",
       "      <td>757.0</td>\n",
       "      <td>05</td>\n",
       "    </tr>\n",
       "    <tr>\n",
       "      <th>9</th>\n",
       "      <td>MPTAL72607789</td>\n",
       "      <td>Black</td>\n",
       "      <td>Neo</td>\n",
       "      <td>757.0</td>\n",
       "      <td>05</td>\n",
       "    </tr>\n",
       "    <tr>\n",
       "      <th>10</th>\n",
       "      <td>MPTAL72849955</td>\n",
       "      <td>Black</td>\n",
       "      <td>Eathon</td>\n",
       "      <td>53.0</td>\n",
       "      <td>05</td>\n",
       "    </tr>\n",
       "    <tr>\n",
       "      <th>11</th>\n",
       "      <td>5000394020146</td>\n",
       "      <td>Black</td>\n",
       "      <td>Hester</td>\n",
       "      <td>189.0</td>\n",
       "      <td>07</td>\n",
       "    </tr>\n",
       "    <tr>\n",
       "      <th>12</th>\n",
       "      <td>6000008600008</td>\n",
       "      <td>Black</td>\n",
       "      <td>Cornelis</td>\n",
       "      <td>124.0</td>\n",
       "      <td>07</td>\n",
       "    </tr>\n",
       "    <tr>\n",
       "      <th>13</th>\n",
       "      <td>6001246636682</td>\n",
       "      <td>Black</td>\n",
       "      <td>Conrad</td>\n",
       "      <td>93.0</td>\n",
       "      <td>07</td>\n",
       "    </tr>\n",
       "    <tr>\n",
       "      <th>14</th>\n",
       "      <td>7290012291685</td>\n",
       "      <td>Black</td>\n",
       "      <td>Jeandre</td>\n",
       "      <td>179.0</td>\n",
       "      <td>07</td>\n",
       "    </tr>\n",
       "    <tr>\n",
       "      <th>15</th>\n",
       "      <td>HURACANNANOWAVE1</td>\n",
       "      <td>Black</td>\n",
       "      <td>chantelle</td>\n",
       "      <td>175.0</td>\n",
       "      <td>07</td>\n",
       "    </tr>\n",
       "    <tr>\n",
       "      <th>16</th>\n",
       "      <td>MPTAL00215561</td>\n",
       "      <td>Black</td>\n",
       "      <td>DIMPHO</td>\n",
       "      <td>1523.0</td>\n",
       "      <td>07</td>\n",
       "    </tr>\n",
       "    <tr>\n",
       "      <th>17</th>\n",
       "      <td>MPTAL00444041</td>\n",
       "      <td>Black</td>\n",
       "      <td>Andreas Peter</td>\n",
       "      <td>238.0</td>\n",
       "      <td>07</td>\n",
       "    </tr>\n",
       "    <tr>\n",
       "      <th>18</th>\n",
       "      <td>MPTAL72849953</td>\n",
       "      <td>Black</td>\n",
       "      <td>Shameer</td>\n",
       "      <td>126.0</td>\n",
       "      <td>07</td>\n",
       "    </tr>\n",
       "  </tbody>\n",
       "</table>\n",
       "</div>"
      ],
      "text/plain": [
       "             Barcode Colour         UserID  ROUND(Total) Month\n",
       "0       741311301174  Black          Cindy        1999.0    03\n",
       "1      5397184200193  Black         Todani        2299.0    03\n",
       "2      6005519116789  Black        Leonard         899.0    05\n",
       "3      6925281939952  Black          Carel         799.0    05\n",
       "4      6932391917652  Black          Beryl         329.0    05\n",
       "5      6941428152961  Black          Lacin         798.0    05\n",
       "6        HTB5ABG31E3  Black       Brigette       10999.0    05\n",
       "7   HURACANNANOWAVE1  Black      Melokuhle         816.0    05\n",
       "8   HURACANNANOWAVE1  Black            Neo         757.0    05\n",
       "9      MPTAL72607789  Black            Neo         757.0    05\n",
       "10     MPTAL72849955  Black         Eathon          53.0    05\n",
       "11     5000394020146  Black         Hester         189.0    07\n",
       "12     6000008600008  Black       Cornelis         124.0    07\n",
       "13     6001246636682  Black         Conrad          93.0    07\n",
       "14     7290012291685  Black        Jeandre         179.0    07\n",
       "15  HURACANNANOWAVE1  Black      chantelle         175.0    07\n",
       "16     MPTAL00215561  Black         DIMPHO        1523.0    07\n",
       "17     MPTAL00444041  Black  Andreas Peter         238.0    07\n",
       "18     MPTAL72849953  Black        Shameer         126.0    07"
      ]
     },
     "execution_count": 141,
     "metadata": {},
     "output_type": "execute_result"
    }
   ],
   "source": [
    "%%read_sql\n",
    "SELECT DISTINCT(T.Barcode), C.Colour, UserID, ROUND(Total), SUBSTR(InvoiceDate,6,2) AS Month\n",
    "FROM Colours_3NF C \n",
    "INNER JOIN Products_3NF P ON C.ColourID = P.ColourID\n",
    "INNER JOIN Transactions_3NF T ON P.Barcode = T.Barcode\n",
    "INNER JOIN Carts_3NF Ca ON T.CartID = Ca.CartID\n",
    "\n",
    "WHERE Colour = 'Black' AND Month %2 = 1\n",
    "ORDER BY Month;\n",
    "\n",
    "    \n"
   ]
  }
 ],
 "metadata": {
  "colab": {
   "collapsed_sections": [],
   "name": "SQL_Predict_Student_Notebook.ipynb",
   "provenance": []
  },
  "interpreter": {
   "hash": "6b5ebbc2c6bde2831bc6c0426f75aca8137ccfc69d329557556ed73faee126ae"
  },
  "kernelspec": {
   "display_name": "Python 3 (ipykernel)",
   "language": "python",
   "name": "python3"
  },
  "language_info": {
   "codemirror_mode": {
    "name": "ipython",
    "version": 3
   },
   "file_extension": ".py",
   "mimetype": "text/x-python",
   "name": "python",
   "nbconvert_exporter": "python",
   "pygments_lexer": "ipython3",
   "version": "3.9.7"
  }
 },
 "nbformat": 4,
 "nbformat_minor": 4
}
